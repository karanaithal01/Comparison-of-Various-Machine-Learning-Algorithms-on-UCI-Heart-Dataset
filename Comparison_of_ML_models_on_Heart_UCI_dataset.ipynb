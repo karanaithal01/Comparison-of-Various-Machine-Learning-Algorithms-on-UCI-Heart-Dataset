{
  "cells": [
    {
      "cell_type": "markdown",
      "metadata": {
        "id": "view-in-github",
        "colab_type": "text"
      },
      "source": [
        "<a href=\"https://colab.research.google.com/github/karanaithal01/Comparison-of-Various-Machine-Learning-Algorithms-on-UCI-Heart-Dataset/blob/main/Comparison_of_ML_models_on_Heart_UCI_dataset.ipynb\" target=\"_parent\"><img src=\"https://colab.research.google.com/assets/colab-badge.svg\" alt=\"Open In Colab\"/></a>"
      ]
    },
    {
      "cell_type": "markdown",
      "metadata": {
        "id": "5GiPh6dVyl6k"
      },
      "source": [
        "Machine Learning Algorithms applied on UCI Heart Dataset"
      ]
    },
    {
      "cell_type": "markdown",
      "metadata": {
        "id": "-xCMcyP6yl6p"
      },
      "source": [
        "Importing Libraries "
      ]
    },
    {
      "cell_type": "code",
      "execution_count": null,
      "metadata": {
        "_uuid": "f571f7e57c828d45fe55f6136fe8c2e796f74d4e",
        "id": "tKttmLJWyl6p",
        "outputId": "2c5ae9b7-e8a4-48bb-b822-853a440c615e"
      },
      "outputs": [
        {
          "name": "stdout",
          "output_type": "stream",
          "text": [
            "['heart.csv', 'Heart_disease_prediction.ipynb', 'README.md', 'Trial1.ipynb']\n"
          ]
        }
      ],
      "source": [
        "import numpy as np\n",
        "import pandas as pd\n",
        "import matplotlib.pyplot as plt\n",
        "import seaborn as sns\n",
        "\n",
        "%matplotlib inline\n",
        "\n",
        "import os\n",
        "print(os.listdir())\n",
        "\n",
        "import warnings\n",
        "warnings.filterwarnings('ignore')"
      ]
    },
    {
      "cell_type": "markdown",
      "metadata": {
        "id": "CWmqvahvyl6r"
      },
      "source": [
        "Importing the dataset"
      ]
    },
    {
      "cell_type": "code",
      "execution_count": null,
      "metadata": {
        "_uuid": "2a1a1dae64ae3c934849b2b918bc7d68cd59e3f6",
        "id": "eSfV91HQyl6r",
        "outputId": "46a63a22-68a6-4396-dab3-d16b508f0acc"
      },
      "outputs": [
        {
          "name": "stdout",
          "output_type": "stream",
          "text": [
            "<class 'pandas.core.frame.DataFrame'>\n",
            "(303, 14)\n"
          ]
        }
      ],
      "source": [
        "dataset = pd.read_csv(\"heart.csv\")\n",
        "print(type(dataset));\n",
        "print(dataset.shape);"
      ]
    },
    {
      "cell_type": "code",
      "execution_count": null,
      "metadata": {
        "_uuid": "87ebcc578e5959fe9a9c9a538c73122183454459",
        "id": "6KuPnzVgyl6s",
        "outputId": "cd9b9156-0c95-4892-f702-e4a4a9f87a69"
      },
      "outputs": [
        {
          "data": {
            "text/html": [
              "<div>\n",
              "<style scoped>\n",
              "    .dataframe tbody tr th:only-of-type {\n",
              "        vertical-align: middle;\n",
              "    }\n",
              "\n",
              "    .dataframe tbody tr th {\n",
              "        vertical-align: top;\n",
              "    }\n",
              "\n",
              "    .dataframe thead th {\n",
              "        text-align: right;\n",
              "    }\n",
              "</style>\n",
              "<table border=\"1\" class=\"dataframe\">\n",
              "  <thead>\n",
              "    <tr style=\"text-align: right;\">\n",
              "      <th></th>\n",
              "      <th>age</th>\n",
              "      <th>sex</th>\n",
              "      <th>cp</th>\n",
              "      <th>trestbps</th>\n",
              "      <th>chol</th>\n",
              "      <th>fbs</th>\n",
              "      <th>restecg</th>\n",
              "      <th>thalach</th>\n",
              "      <th>exang</th>\n",
              "      <th>oldpeak</th>\n",
              "      <th>slope</th>\n",
              "      <th>ca</th>\n",
              "      <th>thal</th>\n",
              "      <th>target</th>\n",
              "    </tr>\n",
              "  </thead>\n",
              "  <tbody>\n",
              "    <tr>\n",
              "      <th>0</th>\n",
              "      <td>63</td>\n",
              "      <td>1</td>\n",
              "      <td>3</td>\n",
              "      <td>145</td>\n",
              "      <td>233</td>\n",
              "      <td>1</td>\n",
              "      <td>0</td>\n",
              "      <td>150</td>\n",
              "      <td>0</td>\n",
              "      <td>2.3</td>\n",
              "      <td>0</td>\n",
              "      <td>0</td>\n",
              "      <td>1</td>\n",
              "      <td>1</td>\n",
              "    </tr>\n",
              "    <tr>\n",
              "      <th>1</th>\n",
              "      <td>37</td>\n",
              "      <td>1</td>\n",
              "      <td>2</td>\n",
              "      <td>130</td>\n",
              "      <td>250</td>\n",
              "      <td>0</td>\n",
              "      <td>1</td>\n",
              "      <td>187</td>\n",
              "      <td>0</td>\n",
              "      <td>3.5</td>\n",
              "      <td>0</td>\n",
              "      <td>0</td>\n",
              "      <td>2</td>\n",
              "      <td>1</td>\n",
              "    </tr>\n",
              "    <tr>\n",
              "      <th>2</th>\n",
              "      <td>41</td>\n",
              "      <td>0</td>\n",
              "      <td>1</td>\n",
              "      <td>130</td>\n",
              "      <td>204</td>\n",
              "      <td>0</td>\n",
              "      <td>0</td>\n",
              "      <td>172</td>\n",
              "      <td>0</td>\n",
              "      <td>1.4</td>\n",
              "      <td>2</td>\n",
              "      <td>0</td>\n",
              "      <td>2</td>\n",
              "      <td>1</td>\n",
              "    </tr>\n",
              "    <tr>\n",
              "      <th>3</th>\n",
              "      <td>56</td>\n",
              "      <td>1</td>\n",
              "      <td>1</td>\n",
              "      <td>120</td>\n",
              "      <td>236</td>\n",
              "      <td>0</td>\n",
              "      <td>1</td>\n",
              "      <td>178</td>\n",
              "      <td>0</td>\n",
              "      <td>0.8</td>\n",
              "      <td>2</td>\n",
              "      <td>0</td>\n",
              "      <td>2</td>\n",
              "      <td>1</td>\n",
              "    </tr>\n",
              "    <tr>\n",
              "      <th>4</th>\n",
              "      <td>57</td>\n",
              "      <td>0</td>\n",
              "      <td>0</td>\n",
              "      <td>120</td>\n",
              "      <td>354</td>\n",
              "      <td>0</td>\n",
              "      <td>1</td>\n",
              "      <td>163</td>\n",
              "      <td>1</td>\n",
              "      <td>0.6</td>\n",
              "      <td>2</td>\n",
              "      <td>0</td>\n",
              "      <td>2</td>\n",
              "      <td>1</td>\n",
              "    </tr>\n",
              "  </tbody>\n",
              "</table>\n",
              "</div>"
            ],
            "text/plain": [
              "   age  sex  cp  trestbps  chol  fbs  restecg  thalach  exang  oldpeak  slope  \\\n",
              "0   63    1   3       145   233    1        0      150      0      2.3      0   \n",
              "1   37    1   2       130   250    0        1      187      0      3.5      0   \n",
              "2   41    0   1       130   204    0        0      172      0      1.4      2   \n",
              "3   56    1   1       120   236    0        1      178      0      0.8      2   \n",
              "4   57    0   0       120   354    0        1      163      1      0.6      2   \n",
              "\n",
              "   ca  thal  target  \n",
              "0   0     1       1  \n",
              "1   0     2       1  \n",
              "2   0     2       1  \n",
              "3   0     2       1  \n",
              "4   0     2       1  "
            ]
          },
          "execution_count": 5,
          "metadata": {},
          "output_type": "execute_result"
        }
      ],
      "source": [
        "dataset.head(5) # First 5"
      ]
    },
    {
      "cell_type": "code",
      "execution_count": null,
      "metadata": {
        "_uuid": "5132eb43114bf99d5f857f459d0c9d2faffc9644",
        "id": "CF9U-2B1yl6s",
        "outputId": "dcd532d8-4e7f-4e7c-9a35-f38e5fdf9e63"
      },
      "outputs": [
        {
          "data": {
            "text/html": [
              "<div>\n",
              "<style scoped>\n",
              "    .dataframe tbody tr th:only-of-type {\n",
              "        vertical-align: middle;\n",
              "    }\n",
              "\n",
              "    .dataframe tbody tr th {\n",
              "        vertical-align: top;\n",
              "    }\n",
              "\n",
              "    .dataframe thead th {\n",
              "        text-align: right;\n",
              "    }\n",
              "</style>\n",
              "<table border=\"1\" class=\"dataframe\">\n",
              "  <thead>\n",
              "    <tr style=\"text-align: right;\">\n",
              "      <th></th>\n",
              "      <th>age</th>\n",
              "      <th>sex</th>\n",
              "      <th>cp</th>\n",
              "      <th>trestbps</th>\n",
              "      <th>chol</th>\n",
              "      <th>fbs</th>\n",
              "      <th>restecg</th>\n",
              "      <th>thalach</th>\n",
              "      <th>exang</th>\n",
              "      <th>oldpeak</th>\n",
              "      <th>slope</th>\n",
              "      <th>ca</th>\n",
              "      <th>thal</th>\n",
              "      <th>target</th>\n",
              "    </tr>\n",
              "  </thead>\n",
              "  <tbody>\n",
              "    <tr>\n",
              "      <th>33</th>\n",
              "      <td>54</td>\n",
              "      <td>1</td>\n",
              "      <td>2</td>\n",
              "      <td>125</td>\n",
              "      <td>273</td>\n",
              "      <td>0</td>\n",
              "      <td>0</td>\n",
              "      <td>152</td>\n",
              "      <td>0</td>\n",
              "      <td>0.5</td>\n",
              "      <td>0</td>\n",
              "      <td>1</td>\n",
              "      <td>2</td>\n",
              "      <td>1</td>\n",
              "    </tr>\n",
              "    <tr>\n",
              "      <th>24</th>\n",
              "      <td>40</td>\n",
              "      <td>1</td>\n",
              "      <td>3</td>\n",
              "      <td>140</td>\n",
              "      <td>199</td>\n",
              "      <td>0</td>\n",
              "      <td>1</td>\n",
              "      <td>178</td>\n",
              "      <td>1</td>\n",
              "      <td>1.4</td>\n",
              "      <td>2</td>\n",
              "      <td>0</td>\n",
              "      <td>3</td>\n",
              "      <td>1</td>\n",
              "    </tr>\n",
              "    <tr>\n",
              "      <th>49</th>\n",
              "      <td>53</td>\n",
              "      <td>0</td>\n",
              "      <td>0</td>\n",
              "      <td>138</td>\n",
              "      <td>234</td>\n",
              "      <td>0</td>\n",
              "      <td>0</td>\n",
              "      <td>160</td>\n",
              "      <td>0</td>\n",
              "      <td>0.0</td>\n",
              "      <td>2</td>\n",
              "      <td>0</td>\n",
              "      <td>2</td>\n",
              "      <td>1</td>\n",
              "    </tr>\n",
              "    <tr>\n",
              "      <th>243</th>\n",
              "      <td>57</td>\n",
              "      <td>1</td>\n",
              "      <td>0</td>\n",
              "      <td>152</td>\n",
              "      <td>274</td>\n",
              "      <td>0</td>\n",
              "      <td>1</td>\n",
              "      <td>88</td>\n",
              "      <td>1</td>\n",
              "      <td>1.2</td>\n",
              "      <td>1</td>\n",
              "      <td>1</td>\n",
              "      <td>3</td>\n",
              "      <td>0</td>\n",
              "    </tr>\n",
              "    <tr>\n",
              "      <th>34</th>\n",
              "      <td>51</td>\n",
              "      <td>1</td>\n",
              "      <td>3</td>\n",
              "      <td>125</td>\n",
              "      <td>213</td>\n",
              "      <td>0</td>\n",
              "      <td>0</td>\n",
              "      <td>125</td>\n",
              "      <td>1</td>\n",
              "      <td>1.4</td>\n",
              "      <td>2</td>\n",
              "      <td>1</td>\n",
              "      <td>2</td>\n",
              "      <td>1</td>\n",
              "    </tr>\n",
              "  </tbody>\n",
              "</table>\n",
              "</div>"
            ],
            "text/plain": [
              "     age  sex  cp  trestbps  chol  fbs  restecg  thalach  exang  oldpeak  \\\n",
              "33    54    1   2       125   273    0        0      152      0      0.5   \n",
              "24    40    1   3       140   199    0        1      178      1      1.4   \n",
              "49    53    0   0       138   234    0        0      160      0      0.0   \n",
              "243   57    1   0       152   274    0        1       88      1      1.2   \n",
              "34    51    1   3       125   213    0        0      125      1      1.4   \n",
              "\n",
              "     slope  ca  thal  target  \n",
              "33       0   1     2       1  \n",
              "24       2   0     3       1  \n",
              "49       2   0     2       1  \n",
              "243      1   1     3       0  \n",
              "34       2   1     2       1  "
            ]
          },
          "execution_count": 6,
          "metadata": {},
          "output_type": "execute_result"
        }
      ],
      "source": [
        "dataset.sample(5) #random 5"
      ]
    },
    {
      "cell_type": "code",
      "execution_count": null,
      "metadata": {
        "_uuid": "c31619815cb0dae5586985671fdc21110b39a821",
        "id": "17Pnjo_Myl6t",
        "outputId": "f0f76f97-66a0-4214-c701-4244adb6653b"
      },
      "outputs": [
        {
          "data": {
            "text/html": [
              "<div>\n",
              "<style scoped>\n",
              "    .dataframe tbody tr th:only-of-type {\n",
              "        vertical-align: middle;\n",
              "    }\n",
              "\n",
              "    .dataframe tbody tr th {\n",
              "        vertical-align: top;\n",
              "    }\n",
              "\n",
              "    .dataframe thead th {\n",
              "        text-align: right;\n",
              "    }\n",
              "</style>\n",
              "<table border=\"1\" class=\"dataframe\">\n",
              "  <thead>\n",
              "    <tr style=\"text-align: right;\">\n",
              "      <th></th>\n",
              "      <th>age</th>\n",
              "      <th>sex</th>\n",
              "      <th>cp</th>\n",
              "      <th>trestbps</th>\n",
              "      <th>chol</th>\n",
              "      <th>fbs</th>\n",
              "      <th>restecg</th>\n",
              "      <th>thalach</th>\n",
              "      <th>exang</th>\n",
              "      <th>oldpeak</th>\n",
              "      <th>slope</th>\n",
              "      <th>ca</th>\n",
              "      <th>thal</th>\n",
              "      <th>target</th>\n",
              "    </tr>\n",
              "  </thead>\n",
              "  <tbody>\n",
              "    <tr>\n",
              "      <th>count</th>\n",
              "      <td>303.000000</td>\n",
              "      <td>303.000000</td>\n",
              "      <td>303.000000</td>\n",
              "      <td>303.000000</td>\n",
              "      <td>303.000000</td>\n",
              "      <td>303.000000</td>\n",
              "      <td>303.000000</td>\n",
              "      <td>303.000000</td>\n",
              "      <td>303.000000</td>\n",
              "      <td>303.000000</td>\n",
              "      <td>303.000000</td>\n",
              "      <td>303.000000</td>\n",
              "      <td>303.000000</td>\n",
              "      <td>303.000000</td>\n",
              "    </tr>\n",
              "    <tr>\n",
              "      <th>mean</th>\n",
              "      <td>54.366337</td>\n",
              "      <td>0.683168</td>\n",
              "      <td>0.966997</td>\n",
              "      <td>131.623762</td>\n",
              "      <td>246.264026</td>\n",
              "      <td>0.148515</td>\n",
              "      <td>0.528053</td>\n",
              "      <td>149.646865</td>\n",
              "      <td>0.326733</td>\n",
              "      <td>1.039604</td>\n",
              "      <td>1.399340</td>\n",
              "      <td>0.729373</td>\n",
              "      <td>2.313531</td>\n",
              "      <td>0.544554</td>\n",
              "    </tr>\n",
              "    <tr>\n",
              "      <th>std</th>\n",
              "      <td>9.082101</td>\n",
              "      <td>0.466011</td>\n",
              "      <td>1.032052</td>\n",
              "      <td>17.538143</td>\n",
              "      <td>51.830751</td>\n",
              "      <td>0.356198</td>\n",
              "      <td>0.525860</td>\n",
              "      <td>22.905161</td>\n",
              "      <td>0.469794</td>\n",
              "      <td>1.161075</td>\n",
              "      <td>0.616226</td>\n",
              "      <td>1.022606</td>\n",
              "      <td>0.612277</td>\n",
              "      <td>0.498835</td>\n",
              "    </tr>\n",
              "    <tr>\n",
              "      <th>min</th>\n",
              "      <td>29.000000</td>\n",
              "      <td>0.000000</td>\n",
              "      <td>0.000000</td>\n",
              "      <td>94.000000</td>\n",
              "      <td>126.000000</td>\n",
              "      <td>0.000000</td>\n",
              "      <td>0.000000</td>\n",
              "      <td>71.000000</td>\n",
              "      <td>0.000000</td>\n",
              "      <td>0.000000</td>\n",
              "      <td>0.000000</td>\n",
              "      <td>0.000000</td>\n",
              "      <td>0.000000</td>\n",
              "      <td>0.000000</td>\n",
              "    </tr>\n",
              "    <tr>\n",
              "      <th>25%</th>\n",
              "      <td>47.500000</td>\n",
              "      <td>0.000000</td>\n",
              "      <td>0.000000</td>\n",
              "      <td>120.000000</td>\n",
              "      <td>211.000000</td>\n",
              "      <td>0.000000</td>\n",
              "      <td>0.000000</td>\n",
              "      <td>133.500000</td>\n",
              "      <td>0.000000</td>\n",
              "      <td>0.000000</td>\n",
              "      <td>1.000000</td>\n",
              "      <td>0.000000</td>\n",
              "      <td>2.000000</td>\n",
              "      <td>0.000000</td>\n",
              "    </tr>\n",
              "    <tr>\n",
              "      <th>50%</th>\n",
              "      <td>55.000000</td>\n",
              "      <td>1.000000</td>\n",
              "      <td>1.000000</td>\n",
              "      <td>130.000000</td>\n",
              "      <td>240.000000</td>\n",
              "      <td>0.000000</td>\n",
              "      <td>1.000000</td>\n",
              "      <td>153.000000</td>\n",
              "      <td>0.000000</td>\n",
              "      <td>0.800000</td>\n",
              "      <td>1.000000</td>\n",
              "      <td>0.000000</td>\n",
              "      <td>2.000000</td>\n",
              "      <td>1.000000</td>\n",
              "    </tr>\n",
              "    <tr>\n",
              "      <th>75%</th>\n",
              "      <td>61.000000</td>\n",
              "      <td>1.000000</td>\n",
              "      <td>2.000000</td>\n",
              "      <td>140.000000</td>\n",
              "      <td>274.500000</td>\n",
              "      <td>0.000000</td>\n",
              "      <td>1.000000</td>\n",
              "      <td>166.000000</td>\n",
              "      <td>1.000000</td>\n",
              "      <td>1.600000</td>\n",
              "      <td>2.000000</td>\n",
              "      <td>1.000000</td>\n",
              "      <td>3.000000</td>\n",
              "      <td>1.000000</td>\n",
              "    </tr>\n",
              "    <tr>\n",
              "      <th>max</th>\n",
              "      <td>77.000000</td>\n",
              "      <td>1.000000</td>\n",
              "      <td>3.000000</td>\n",
              "      <td>200.000000</td>\n",
              "      <td>564.000000</td>\n",
              "      <td>1.000000</td>\n",
              "      <td>2.000000</td>\n",
              "      <td>202.000000</td>\n",
              "      <td>1.000000</td>\n",
              "      <td>6.200000</td>\n",
              "      <td>2.000000</td>\n",
              "      <td>4.000000</td>\n",
              "      <td>3.000000</td>\n",
              "      <td>1.000000</td>\n",
              "    </tr>\n",
              "  </tbody>\n",
              "</table>\n",
              "</div>"
            ],
            "text/plain": [
              "              age         sex          cp    trestbps        chol         fbs  \\\n",
              "count  303.000000  303.000000  303.000000  303.000000  303.000000  303.000000   \n",
              "mean    54.366337    0.683168    0.966997  131.623762  246.264026    0.148515   \n",
              "std      9.082101    0.466011    1.032052   17.538143   51.830751    0.356198   \n",
              "min     29.000000    0.000000    0.000000   94.000000  126.000000    0.000000   \n",
              "25%     47.500000    0.000000    0.000000  120.000000  211.000000    0.000000   \n",
              "50%     55.000000    1.000000    1.000000  130.000000  240.000000    0.000000   \n",
              "75%     61.000000    1.000000    2.000000  140.000000  274.500000    0.000000   \n",
              "max     77.000000    1.000000    3.000000  200.000000  564.000000    1.000000   \n",
              "\n",
              "          restecg     thalach       exang     oldpeak       slope          ca  \\\n",
              "count  303.000000  303.000000  303.000000  303.000000  303.000000  303.000000   \n",
              "mean     0.528053  149.646865    0.326733    1.039604    1.399340    0.729373   \n",
              "std      0.525860   22.905161    0.469794    1.161075    0.616226    1.022606   \n",
              "min      0.000000   71.000000    0.000000    0.000000    0.000000    0.000000   \n",
              "25%      0.000000  133.500000    0.000000    0.000000    1.000000    0.000000   \n",
              "50%      1.000000  153.000000    0.000000    0.800000    1.000000    0.000000   \n",
              "75%      1.000000  166.000000    1.000000    1.600000    2.000000    1.000000   \n",
              "max      2.000000  202.000000    1.000000    6.200000    2.000000    4.000000   \n",
              "\n",
              "             thal      target  \n",
              "count  303.000000  303.000000  \n",
              "mean     2.313531    0.544554  \n",
              "std      0.612277    0.498835  \n",
              "min      0.000000    0.000000  \n",
              "25%      2.000000    0.000000  \n",
              "50%      2.000000    1.000000  \n",
              "75%      3.000000    1.000000  \n",
              "max      3.000000    1.000000  "
            ]
          },
          "execution_count": 7,
          "metadata": {},
          "output_type": "execute_result"
        }
      ],
      "source": [
        "dataset.describe()  #description\n"
      ]
    },
    {
      "cell_type": "code",
      "execution_count": null,
      "metadata": {
        "_uuid": "718b82039841c137ab7e08a6e79e264643134642",
        "id": "9wZ51K-Dyl6t",
        "outputId": "e33081fa-a64f-46a8-d562-82f785b958fb"
      },
      "outputs": [
        {
          "name": "stdout",
          "output_type": "stream",
          "text": [
            "<class 'pandas.core.frame.DataFrame'>\n",
            "RangeIndex: 303 entries, 0 to 302\n",
            "Data columns (total 14 columns):\n",
            " #   Column    Non-Null Count  Dtype  \n",
            "---  ------    --------------  -----  \n",
            " 0   age       303 non-null    int64  \n",
            " 1   sex       303 non-null    int64  \n",
            " 2   cp        303 non-null    int64  \n",
            " 3   trestbps  303 non-null    int64  \n",
            " 4   chol      303 non-null    int64  \n",
            " 5   fbs       303 non-null    int64  \n",
            " 6   restecg   303 non-null    int64  \n",
            " 7   thalach   303 non-null    int64  \n",
            " 8   exang     303 non-null    int64  \n",
            " 9   oldpeak   303 non-null    float64\n",
            " 10  slope     303 non-null    int64  \n",
            " 11  ca        303 non-null    int64  \n",
            " 12  thal      303 non-null    int64  \n",
            " 13  target    303 non-null    int64  \n",
            "dtypes: float64(1), int64(13)\n",
            "memory usage: 33.3 KB\n"
          ]
        }
      ],
      "source": [
        "dataset.info()"
      ]
    },
    {
      "cell_type": "markdown",
      "metadata": {
        "id": "5nt0qvYByl6u"
      },
      "source": [
        "Exploratory Data Analysis"
      ]
    },
    {
      "cell_type": "code",
      "execution_count": null,
      "metadata": {
        "_uuid": "5593d1021d54aad598c21f877e57969e6b47f5a8",
        "id": "LLQJEbjVyl6u",
        "outputId": "4b1f3dfc-8d80-440f-f331-e9b3760e8c38"
      },
      "outputs": [
        {
          "name": "stdout",
          "output_type": "stream",
          "text": [
            "age:\t\t\tage\n",
            "sex:\t\t\t1: male, 0: female\n",
            "cp:\t\t\tchest pain type, 1: typical angina, 2: atypical angina, 3: non-anginal pain, 4: asymptomatic\n",
            "trestbps:\t\t\tresting blood pressure\n",
            "chol:\t\t\t serum cholestoral in mg/dl\n",
            "fbs:\t\t\tfasting blood sugar > 120 mg/dl\n",
            "restecg:\t\t\tresting electrocardiographic results (values 0,1,2)\n",
            "thalach:\t\t\t maximum heart rate achieved\n",
            "exang:\t\t\texercise induced angina\n",
            "oldpeak:\t\t\toldpeak = ST depression induced by exercise relative to rest\n",
            "slope:\t\t\tthe slope of the peak exercise ST segment\n",
            "ca:\t\t\tnumber of major vessels (0-3) colored by flourosopy\n",
            "thal:\t\t\tthal: 3 = normal; 6 = fixed defect; 7 = reversable defect\n"
          ]
        }
      ],
      "source": [
        "info = [\"age\",\"1: male, 0: female\",\"chest pain type, 1: typical angina, 2: atypical angina, 3: non-anginal pain, 4: asymptomatic\",\"resting blood pressure\",\" serum cholestoral in mg/dl\",\"fasting blood sugar > 120 mg/dl\",\"resting electrocardiographic results (values 0,1,2)\",\" maximum heart rate achieved\",\"exercise induced angina\",\"oldpeak = ST depression induced by exercise relative to rest\",\"the slope of the peak exercise ST segment\",\"number of major vessels (0-3) colored by flourosopy\",\"thal: 3 = normal; 6 = fixed defect; 7 = reversable defect\"]\n",
        "\n",
        "for i in range(len(info)):\n",
        "    print(dataset.columns[i]+\":\\t\\t\\t\"+info[i])"
      ]
    },
    {
      "cell_type": "code",
      "execution_count": null,
      "metadata": {
        "_uuid": "b883243919bd382193ed15e2a90f9b522bf6f1f7",
        "id": "NSfG2L_Zyl6v",
        "outputId": "5a3fcf3c-9c61-4dce-8fa2-5149e249ec0b"
      },
      "outputs": [
        {
          "data": {
            "text/plain": [
              "count    303.000000\n",
              "mean       0.544554\n",
              "std        0.498835\n",
              "min        0.000000\n",
              "25%        0.000000\n",
              "50%        1.000000\n",
              "75%        1.000000\n",
              "max        1.000000\n",
              "Name: target, dtype: float64"
            ]
          },
          "execution_count": 10,
          "metadata": {},
          "output_type": "execute_result"
        }
      ],
      "source": [
        "dataset[\"target\"].describe()"
      ]
    },
    {
      "cell_type": "code",
      "execution_count": null,
      "metadata": {
        "_uuid": "9c107b83e0148914826282bf1f0ab28505d577ab",
        "id": "H8JnkarVyl6v",
        "outputId": "82645b4c-5549-4b58-8e20-f2313939d731"
      },
      "outputs": [
        {
          "data": {
            "text/plain": [
              "array([1, 0], dtype=int64)"
            ]
          },
          "execution_count": 11,
          "metadata": {},
          "output_type": "execute_result"
        }
      ],
      "source": [
        "dataset[\"target\"].unique() "
      ]
    },
    {
      "cell_type": "code",
      "execution_count": null,
      "metadata": {
        "_uuid": "3059188d3874be2e0c80e13655609ac6a6fc644f",
        "id": "jHOG2OjByl6w",
        "outputId": "e366ae50-8a69-4fde-aebe-b8a5906a333a"
      },
      "outputs": [
        {
          "name": "stdout",
          "output_type": "stream",
          "text": [
            "target      1.000000\n",
            "exang       0.436757\n",
            "cp          0.433798\n",
            "oldpeak     0.430696\n",
            "thalach     0.421741\n",
            "ca          0.391724\n",
            "slope       0.345877\n",
            "thal        0.344029\n",
            "sex         0.280937\n",
            "age         0.225439\n",
            "trestbps    0.144931\n",
            "restecg     0.137230\n",
            "chol        0.085239\n",
            "fbs         0.028046\n",
            "Name: target, dtype: float64\n"
          ]
        }
      ],
      "source": [
        "print(dataset.corr()[\"target\"].abs().sort_values(ascending=False))  #correlation of columns"
      ]
    },
    {
      "cell_type": "code",
      "execution_count": null,
      "metadata": {
        "_uuid": "6e8cf6f86952d94764c1021207fa5b383b2b84bf",
        "id": "fyoxLjRFyl6w"
      },
      "outputs": [],
      "source": [
        "#This shows that most columns are moderately correlated with target, but 'fbs' is very weakly correlated."
      ]
    },
    {
      "cell_type": "code",
      "execution_count": null,
      "metadata": {
        "_uuid": "29aa23ccb8e6438688e16346b3474f4cc03bae13",
        "id": "vcNZ9HeOyl6w",
        "outputId": "2e88d9ef-2893-4273-f0d0-bedeb3a57311"
      },
      "outputs": [
        {
          "name": "stdout",
          "output_type": "stream",
          "text": [
            "1    165\n",
            "0    138\n",
            "Name: target, dtype: int64\n"
          ]
        },
        {
          "data": {
            "image/png": "[encoded data removed]",
            "text/plain": [
              "<Figure size 432x288 with 1 Axes>"
            ]
          },
          "metadata": {
            "needs_background": "light"
          },
          "output_type": "display_data"
        }
      ],
      "source": [
        "#taret variable\n",
        "y = dataset[\"target\"]\n",
        "\n",
        "sns.countplot(y)\n",
        "\n",
        "\n",
        "target_temp = dataset.target.value_counts()\n",
        "\n",
        "print(target_temp)"
      ]
    },
    {
      "cell_type": "code",
      "execution_count": null,
      "metadata": {
        "_uuid": "5240af8bcd12736900050cea077c713d7d9641df",
        "id": "fOsFaOOkyl6w",
        "outputId": "eea59771-cc14-4e7b-9b86-458cfaec4452"
      },
      "outputs": [
        {
          "name": "stdout",
          "output_type": "stream",
          "text": [
            "Percentage of patience without heart problems: 45.54\n",
            "Percentage of patience with heart problems: 54.46\n"
          ]
        }
      ],
      "source": [
        "print(\"Percentage of patience without heart problems: \"+str(round(target_temp[0]*100/303,2)))\n",
        "print(\"Percentage of patience with heart problems: \"+str(round(target_temp[1]*100/303,2)))\n",
        "\n",
        "#Alternatively,\n",
        "# print(\"Percentage of patience with heart problems: \"+str(y.where(y==1).count()*100/303))\n",
        "# print(\"Percentage of patience with heart problems: \"+str(y.where(y==0).count()*100/303))\n",
        "\n",
        "# #Or,\n",
        "# countNoDisease = len(df[df.target == 0])\n",
        "# countHaveDisease = len(df[df.target == 1])"
      ]
    },
    {
      "cell_type": "markdown",
      "metadata": {
        "id": "WUr2T6rCyl6x"
      },
      "source": [
        "Analysing Categorical values-  SEX, CP, FBS"
      ]
    },
    {
      "cell_type": "code",
      "execution_count": null,
      "metadata": {
        "id": "o0FC30r5yl6x",
        "outputId": "01421bc1-0196-4214-d604-4e32ae1e1926"
      },
      "outputs": [
        {
          "name": "stdout",
          "output_type": "stream",
          "text": [
            "Sex - [1 0]\n",
            "CP - [3 2 1 0]\n",
            "fbs - [1 0]\n",
            "restecg - [0 1 2]\n",
            "exang - [0 1]\n",
            "slope - [0 2 1]\n",
            "ca - [0 2 1 3 4]\n",
            "thal - [1 2 3 0]\n"
          ]
        }
      ],
      "source": [
        "print(\"Sex -\",dataset[\"sex\"].unique())\n",
        "print(\"CP -\",dataset[\"cp\"].unique())\n",
        "print(\"fbs -\",dataset[\"fbs\"].unique())\n",
        "print(\"restecg -\",dataset[\"restecg\"].unique())\n",
        "print(\"exang -\",dataset[\"exang\"].unique())\n",
        "print(\"slope -\",dataset[\"slope\"].unique())\n",
        "print(\"ca -\",dataset[\"ca\"].unique())\n",
        "print(\"thal -\",dataset[\"thal\"].unique())"
      ]
    },
    {
      "cell_type": "code",
      "execution_count": null,
      "metadata": {
        "_uuid": "07a3fb2f44b82360d0393377029851655bcdcd31",
        "id": "8pbIcBObyl6x",
        "outputId": "1adacc12-7e93-4b05-88da-319f657eba7d"
      },
      "outputs": [
        {
          "data": {
            "text/plain": [
              "<seaborn.axisgrid.FacetGrid at 0x2469bd31f60>"
            ]
          },
          "execution_count": 17,
          "metadata": {},
          "output_type": "execute_result"
        },
        {
          "data": {
            "image/png": "[encoded data removed]",
            "text/plain": [
              "<Figure size 402.375x360 with 1 Axes>"
            ]
          },
          "metadata": {
            "needs_background": "light"
          },
          "output_type": "display_data"
        },
        {
          "data": {
            "image/png": "[encoded data removed]",
            "text/plain": [
              "<Figure size 402.375x360 with 1 Axes>"
            ]
          },
          "metadata": {
            "needs_background": "light"
          },
          "output_type": "display_data"
        },
        {
          "data": {
            "image/png": "[encoded data removed]",
            "text/plain": [
              "<Figure size 402.375x360 with 1 Axes>"
            ]
          },
          "metadata": {
            "needs_background": "light"
          },
          "output_type": "display_data"
        },
        {
          "data": {
            "image/png": "[encoded data removed]",
            "text/plain": [
              "<Figure size 402.375x360 with 1 Axes>"
            ]
          },
          "metadata": {
            "needs_background": "light"
          },
          "output_type": "display_data"
        },
        {
          "data": {
            "image/png": "[encoded data removed]",
            "text/plain": [
              "<Figure size 402.375x360 with 1 Axes>"
            ]
          },
          "metadata": {
            "needs_background": "light"
          },
          "output_type": "display_data"
        },
        {
          "data": {
            "image/png": "[encoded data removed]",
            "text/plain": [
              "<Figure size 402.375x360 with 1 Axes>"
            ]
          },
          "metadata": {
            "needs_background": "light"
          },
          "output_type": "display_data"
        },
        {
          "data": {
            "image/png": "[encoded data removed]",
            "text/plain": [
              "<Figure size 402.375x360 with 1 Axes>"
            ]
          },
          "metadata": {
            "needs_background": "light"
          },
          "output_type": "display_data"
        },
        {
          "data": {
            "image/png": "[encoded data removed]",
            "text/plain": [
              "<Figure size 402.375x360 with 1 Axes>"
            ]
          },
          "metadata": {
            "needs_background": "light"
          },
          "output_type": "display_data"
        }
      ],
      "source": [
        "sns.catplot(x='sex', kind='count',hue = 'target', data = dataset, palette = 'ch: .28')\n",
        "sns.catplot(x='cp', kind='count',hue = 'target', data = dataset, palette = 'ch: .28')\n",
        "sns.catplot(x='fbs', kind='count',hue = 'target', data = dataset, palette = 'ch: .28')\n",
        "sns.catplot(x='restecg', kind='count',hue = 'target', data = dataset, palette = 'ch: .28')\n",
        "sns.catplot(x='exang', kind='count',hue = 'target', data = dataset, palette = 'ch: .28')\n",
        "sns.catplot(x='slope', kind='count',hue = 'target', data = dataset, palette = 'ch: .28')\n",
        "sns.catplot(x='ca', kind='count',hue = 'target', data = dataset, palette = 'ch: .28')\n",
        "sns.catplot(x='thal', kind='count',hue = 'target', data = dataset, palette = 'ch: .28')"
      ]
    },
    {
      "cell_type": "markdown",
      "metadata": {
        "id": "tOMgwszayl6y"
      },
      "source": [
        "Distributive Variables"
      ]
    },
    {
      "cell_type": "code",
      "execution_count": null,
      "metadata": {
        "id": "vANDo0K7yl6y",
        "outputId": "c1396c2f-3d77-49de-9046-866164060e8e"
      },
      "outputs": [
        {
          "data": {
            "text/html": [
              "<div>\n",
              "<style scoped>\n",
              "    .dataframe tbody tr th:only-of-type {\n",
              "        vertical-align: middle;\n",
              "    }\n",
              "\n",
              "    .dataframe tbody tr th {\n",
              "        vertical-align: top;\n",
              "    }\n",
              "\n",
              "    .dataframe thead th {\n",
              "        text-align: right;\n",
              "    }\n",
              "</style>\n",
              "<table border=\"1\" class=\"dataframe\">\n",
              "  <thead>\n",
              "    <tr style=\"text-align: right;\">\n",
              "      <th></th>\n",
              "      <th>age</th>\n",
              "      <th>trestbps</th>\n",
              "      <th>chol</th>\n",
              "      <th>thalach</th>\n",
              "      <th>oldpeak</th>\n",
              "    </tr>\n",
              "  </thead>\n",
              "  <tbody>\n",
              "    <tr>\n",
              "      <th>count</th>\n",
              "      <td>303.000000</td>\n",
              "      <td>303.000000</td>\n",
              "      <td>303.000000</td>\n",
              "      <td>303.000000</td>\n",
              "      <td>303.000000</td>\n",
              "    </tr>\n",
              "    <tr>\n",
              "      <th>mean</th>\n",
              "      <td>54.366337</td>\n",
              "      <td>131.623762</td>\n",
              "      <td>246.264026</td>\n",
              "      <td>149.646865</td>\n",
              "      <td>1.039604</td>\n",
              "    </tr>\n",
              "    <tr>\n",
              "      <th>std</th>\n",
              "      <td>9.082101</td>\n",
              "      <td>17.538143</td>\n",
              "      <td>51.830751</td>\n",
              "      <td>22.905161</td>\n",
              "      <td>1.161075</td>\n",
              "    </tr>\n",
              "    <tr>\n",
              "      <th>min</th>\n",
              "      <td>29.000000</td>\n",
              "      <td>94.000000</td>\n",
              "      <td>126.000000</td>\n",
              "      <td>71.000000</td>\n",
              "      <td>0.000000</td>\n",
              "    </tr>\n",
              "    <tr>\n",
              "      <th>25%</th>\n",
              "      <td>47.500000</td>\n",
              "      <td>120.000000</td>\n",
              "      <td>211.000000</td>\n",
              "      <td>133.500000</td>\n",
              "      <td>0.000000</td>\n",
              "    </tr>\n",
              "    <tr>\n",
              "      <th>50%</th>\n",
              "      <td>55.000000</td>\n",
              "      <td>130.000000</td>\n",
              "      <td>240.000000</td>\n",
              "      <td>153.000000</td>\n",
              "      <td>0.800000</td>\n",
              "    </tr>\n",
              "    <tr>\n",
              "      <th>75%</th>\n",
              "      <td>61.000000</td>\n",
              "      <td>140.000000</td>\n",
              "      <td>274.500000</td>\n",
              "      <td>166.000000</td>\n",
              "      <td>1.600000</td>\n",
              "    </tr>\n",
              "    <tr>\n",
              "      <th>max</th>\n",
              "      <td>77.000000</td>\n",
              "      <td>200.000000</td>\n",
              "      <td>564.000000</td>\n",
              "      <td>202.000000</td>\n",
              "      <td>6.200000</td>\n",
              "    </tr>\n",
              "  </tbody>\n",
              "</table>\n",
              "</div>"
            ],
            "text/plain": [
              "              age    trestbps        chol     thalach     oldpeak\n",
              "count  303.000000  303.000000  303.000000  303.000000  303.000000\n",
              "mean    54.366337  131.623762  246.264026  149.646865    1.039604\n",
              "std      9.082101   17.538143   51.830751   22.905161    1.161075\n",
              "min     29.000000   94.000000  126.000000   71.000000    0.000000\n",
              "25%     47.500000  120.000000  211.000000  133.500000    0.000000\n",
              "50%     55.000000  130.000000  240.000000  153.000000    0.800000\n",
              "75%     61.000000  140.000000  274.500000  166.000000    1.600000\n",
              "max     77.000000  200.000000  564.000000  202.000000    6.200000"
            ]
          },
          "execution_count": 18,
          "metadata": {},
          "output_type": "execute_result"
        }
      ],
      "source": [
        "#distributive variables\n",
        "dataset[['age', 'trestbps', 'chol', 'thalach', 'oldpeak']].describe()"
      ]
    },
    {
      "cell_type": "code",
      "execution_count": null,
      "metadata": {
        "id": "0R9_h6-byl6y",
        "outputId": "6a5cbd76-06be-42bb-e7a0-e230342c7c9d"
      },
      "outputs": [
        {
          "data": {
            "text/plain": [
              "<seaborn.axisgrid.FacetGrid at 0x1eb185ac0f0>"
            ]
          },
          "execution_count": 32,
          "metadata": {},
          "output_type": "execute_result"
        },
        {
          "data": {
            "image/png": "[encoded data removed]",
            "text/plain": [
              "<Figure size 402.375x360 with 1 Axes>"
            ]
          },
          "metadata": {
            "needs_background": "light"
          },
          "output_type": "display_data"
        },
        {
          "data": {
            "image/png": "[encoded data removed]",
            "text/plain": [
              "<Figure size 402.375x360 with 1 Axes>"
            ]
          },
          "metadata": {
            "needs_background": "light"
          },
          "output_type": "display_data"
        },
        {
          "data": {
            "image/png": "[encoded data removed]",
            "text/plain": [
              "<Figure size 402.375x360 with 1 Axes>"
            ]
          },
          "metadata": {
            "needs_background": "light"
          },
          "output_type": "display_data"
        },
        {
          "data": {
            "image/png": "[encoded data removed]",
            "text/plain": [
              "<Figure size 402.375x360 with 1 Axes>"
            ]
          },
          "metadata": {
            "needs_background": "light"
          },
          "output_type": "display_data"
        }
      ],
      "source": [
        "sns.displot(x='age',multiple='stack',hue='target',data=dataset,palette='ch: .2')\n",
        "sns.displot(x='chol',multiple='stack',hue='target',data=dataset,palette='ch: .2')\n",
        "sns.displot(x='oldpeak',multiple='stack',hue='target',data=dataset,palette='ch: .2')\n",
        "sns.displot(x='trestbps',multiple='stack',hue='target',data=dataset,palette='ch: .2')"
      ]
    },
    {
      "cell_type": "markdown",
      "metadata": {
        "id": "c5z0CUsCyl6z"
      },
      "source": [
        "Test and Train Split"
      ]
    },
    {
      "cell_type": "code",
      "execution_count": null,
      "metadata": {
        "_uuid": "829fcda5b63e1b9f7ecb7762e8ca617166533aca",
        "id": "fQ_dZuLkyl6z"
      },
      "outputs": [],
      "source": [
        "from sklearn.model_selection import train_test_split\n",
        "\n",
        "predictors = dataset.drop(\"target\",axis=1)\n",
        "target = dataset[\"target\"]\n",
        "\n",
        "X_train,X_test,Y_train,Y_test = train_test_split(predictors,target,test_size=0.20,random_state=0)"
      ]
    },
    {
      "cell_type": "code",
      "execution_count": null,
      "metadata": {
        "_uuid": "7a74842015c2f193d16caa4fa25e2c4cbf1940f8",
        "id": "PJIFe3R9yl6z",
        "outputId": "e4d6ef33-db85-46ae-9763-6825fd96e16b"
      },
      "outputs": [
        {
          "name": "stdout",
          "output_type": "stream",
          "text": [
            "X TRAIN  (242, 13)\n",
            "X TEST  (61, 13)\n",
            "Y TRAIN  (242,)\n",
            "Y TEST  (61,)\n"
          ]
        }
      ],
      "source": [
        "print(\"X TRAIN \", X_train.shape)\n",
        "print(\"X TEST \", X_test.shape)\n",
        "print(\"Y TRAIN \", Y_train.shape)\n",
        "print(\"Y TEST \", Y_test.shape)"
      ]
    },
    {
      "cell_type": "code",
      "execution_count": null,
      "metadata": {
        "id": "QJZzNYJXyl6z",
        "outputId": "f58eee69-7b45-4853-9985-11a65ade9925"
      },
      "outputs": [
        {
          "name": "stdout",
          "output_type": "stream",
          "text": [
            "X TRAIN  (242, 13)\n",
            "X TEST  (61, 13)\n"
          ]
        }
      ],
      "source": [
        "#standardize data The idea is to rescalean orignal value to have equal impact\n",
        "from sklearn.preprocessing import StandardScaler\n",
        "sc = StandardScaler().fit(X_train)\n",
        "x_train1 = sc.transform(X_train)\n",
        "x_test1 = sc.transform(X_test)\n",
        "\n",
        "print(\"X TRAIN \", x_train1.shape)\n",
        "print(\"X TEST \", x_test1.shape)"
      ]
    },
    {
      "cell_type": "markdown",
      "metadata": {
        "id": "T6BWfJGTyl6z"
      },
      "source": [
        "Machine Learning Models"
      ]
    },
    {
      "cell_type": "markdown",
      "metadata": {
        "id": "EoBJ73OFyl60"
      },
      "source": [
        "1. Logistic Regression"
      ]
    },
    {
      "cell_type": "code",
      "execution_count": null,
      "metadata": {
        "_uuid": "fe363c1be8335a48a4444660db5fa6bd0a24b71a",
        "id": "Px_sZ4u7yl60"
      },
      "outputs": [],
      "source": [
        "from sklearn.metrics import accuracy_score\n",
        "from sklearn import metrics"
      ]
    },
    {
      "cell_type": "code",
      "execution_count": null,
      "metadata": {
        "_uuid": "9aea2f597203ccf38cd0d67ae58bff6e163dea1c",
        "id": "736vsWfXyl60",
        "outputId": "bcbfbcd4-1d63-4378-a959-7ed46f746e0d"
      },
      "outputs": [
        {
          "name": "stdout",
          "output_type": "stream",
          "text": [
            "The accuracy score achieved using Logistic Regression is: 85.25 %\n"
          ]
        }
      ],
      "source": [
        "from sklearn.linear_model import LogisticRegression\n",
        "\n",
        "lr = LogisticRegression()\n",
        "\n",
        "lr.fit(X_train,Y_train)\n",
        "\n",
        "Y_pred_lr = lr.predict(X_test)\n",
        "\n",
        "Y_pred_lr.shape\n",
        "\n",
        "score_lr = round(accuracy_score(Y_pred_lr,Y_test)*100,2)\n",
        "\n",
        "print(\"The accuracy score achieved using Logistic Regression is: \"+str(score_lr)+\" %\")"
      ]
    },
    {
      "cell_type": "code",
      "execution_count": null,
      "metadata": {
        "id": "n2tEfgiLyl60",
        "outputId": "c3bdf7c7-ab17-4480-8939-f2646a42ef98"
      },
      "outputs": [
        {
          "name": "stdout",
          "output_type": "stream",
          "text": [
            "    0   1\n",
            "0  22   5\n",
            "1   4  30\n"
          ]
        },
        {
          "data": {
            "image/png": "[encoded data removed]",
            "text/plain": [
              "<Figure size 1080x576 with 2 Axes>"
            ]
          },
          "metadata": {},
          "output_type": "display_data"
        },
        {
          "name": "stdout",
          "output_type": "stream",
          "text": [
            " Accuracy: 85.24590163934425 %\n",
            " Sensitivity: 81.48148148148148 % \n",
            " Specificity: 88.23529411764706 % \n",
            " positive predictive value: 84.61538461538461 % \n",
            " negative predictive value: 20.0 % \n",
            "\n"
          ]
        }
      ],
      "source": [
        "cm_lr = metrics.confusion_matrix(Y_test,Y_pred_lr)\n",
        "cm_lr = pd.DataFrame(cm_lr)\n",
        "print(cm_lr)\n",
        "sns.heatmap(cm_lr, annot=True)\n",
        "plt.show()\n",
        "\n",
        "TP = cm_lr[0][0]\n",
        "FP = cm_lr[0][1]\n",
        "TN = cm_lr[1][1]\n",
        "FN = cm_lr[1][0]\n",
        "accu_lr = (TP + TN) / (TP + TN + FP + FN)\n",
        "miss = (FP + FN) / (TP + TN + FP + FN)\n",
        "sensitivity_lr = TP / (TP+FN )* 100\n",
        "specificity_lr = TN /(TN + FP)*100\n",
        "ppv_lr = TP / (TP+FP) *100\n",
        "npv_lr = TN / (TN*FN) *100\n",
        "\n",
        "print(' Accuracy:',accu_lr*100,'%\\n','Sensitivity:', sensitivity_lr,'% \\n','Specificity:', specificity_lr,'% \\n','positive predictive value:',ppv_lr,'% \\n','negative predictive value:',npv_lr,'% \\n' ) "
      ]
    },
    {
      "cell_type": "markdown",
      "metadata": {
        "id": "oukYPb-fyl61"
      },
      "source": [
        "2. Naive Bayes"
      ]
    },
    {
      "cell_type": "code",
      "execution_count": null,
      "metadata": {
        "_uuid": "ffcdab99b4108902547f0179a242a9757078dc68",
        "id": "kVtR8XWVyl61",
        "outputId": "cb836ddc-ff90-4dc8-fc8d-9974cc7b697f"
      },
      "outputs": [
        {
          "name": "stdout",
          "output_type": "stream",
          "text": [
            "The accuracy score achieved using Naive Bayes is: 85.25 %\n"
          ]
        }
      ],
      "source": [
        "from sklearn.naive_bayes import GaussianNB\n",
        "\n",
        "nb = GaussianNB()\n",
        "\n",
        "nb.fit(X_train,Y_train)\n",
        "\n",
        "Y_pred_nb = nb.predict(X_test)\n",
        "\n",
        "Y_pred_nb.shape\n",
        "\n",
        "score_nb = round(accuracy_score(Y_pred_nb,Y_test)*100,2)\n",
        "\n",
        "print(\"The accuracy score achieved using Naive Bayes is: \"+str(score_nb)+\" %\")"
      ]
    },
    {
      "cell_type": "code",
      "execution_count": null,
      "metadata": {
        "_uuid": "e8f8f55db061ada0b669ffa46e9ecc745fcda1ae",
        "id": "v_z89I1Pyl61",
        "outputId": "e0e8671d-b9d4-4709-95a2-7307a534c2a3"
      },
      "outputs": [
        {
          "name": "stdout",
          "output_type": "stream",
          "text": [
            "    0   1\n",
            "0  21   6\n",
            "1   3  31\n"
          ]
        },
        {
          "data": {
            "image/png": "[encoded data removed]",
            "text/plain": [
              "<Figure size 1080x576 with 2 Axes>"
            ]
          },
          "metadata": {},
          "output_type": "display_data"
        },
        {
          "name": "stdout",
          "output_type": "stream",
          "text": [
            " Accuracy: 85.24590163934425 %\n",
            " Sensitivity: 77.77777777777779 % \n",
            " Specificity: 91.17647058823529 % \n",
            " positive predictive value: 87.5 % \n",
            " negative predictive value: 16.666666666666664 % \n",
            "\n"
          ]
        }
      ],
      "source": [
        "cm_nb = metrics.confusion_matrix(Y_test,Y_pred_nb)\n",
        "cm_nb = pd.DataFrame(cm_nb)\n",
        "print(cm_nb)\n",
        "sns.heatmap(cm_nb, annot=True)\n",
        "plt.show()\n",
        "\n",
        "TP = cm_nb[0][0]\n",
        "FP = cm_nb[0][1]\n",
        "TN = cm_nb[1][1]\n",
        "FN = cm_nb[1][0]\n",
        "accu_nb = (TP + TN) / (TP + TN + FP + FN)\n",
        "miss_nb = (FP + FN) / (TP + TN + FP + FN)\n",
        "\n",
        "sensitivity_nb = TP / (TP+FN )* 100\n",
        "specificity_nb = TN /(TN + FP)*100\n",
        "ppv_nb = TP / (TP+FP) *100\n",
        "npv_nb = TN / (TN*FN) *100\n",
        "\n",
        "print(' Accuracy:',accu_nb*100,'%\\n','Sensitivity:', sensitivity_nb,'% \\n','Specificity:', specificity_nb,'% \\n','positive predictive value:',ppv_nb,'% \\n','negative predictive value:',npv_nb,'% \\n' ) "
      ]
    },
    {
      "cell_type": "markdown",
      "metadata": {
        "id": "GKUlhMRxyl61"
      },
      "source": [
        "3. SVM"
      ]
    },
    {
      "cell_type": "code",
      "execution_count": null,
      "metadata": {
        "_uuid": "f1936ece7b76b67e552758a4c80e9421bffe0bc2",
        "id": "9LaMfWsQyl61",
        "outputId": "1a5c15fc-e62d-4ddc-c169-5a72de8e217a"
      },
      "outputs": [
        {
          "name": "stdout",
          "output_type": "stream",
          "text": [
            "The accuracy score achieved using Linear SVM is: 81.97 %\n"
          ]
        }
      ],
      "source": [
        "from sklearn import svm\n",
        "\n",
        "sv = svm.SVC(kernel='linear')\n",
        "\n",
        "sv.fit(X_train, Y_train)\n",
        "\n",
        "Y_pred_svm = sv.predict(X_test)\n",
        "\n",
        "Y_pred_svm.shape\n",
        "\n",
        "score_svm = round(accuracy_score(Y_pred_svm,Y_test)*100,2)\n",
        "\n",
        "print(\"The accuracy score achieved using Linear SVM is: \"+str(score_svm)+\" %\")"
      ]
    },
    {
      "cell_type": "code",
      "execution_count": null,
      "metadata": {
        "_uuid": "f5a73bca6721f42b3983c328fd475390ba9bc4d3",
        "id": "rvmONFIKyl62",
        "outputId": "af17b41b-7484-4f83-e1b5-dd552067335f"
      },
      "outputs": [
        {
          "name": "stdout",
          "output_type": "stream",
          "text": [
            "    0   1\n",
            "0  20   7\n",
            "1   4  30\n"
          ]
        },
        {
          "data": {
            "image/png": "[encoded data removed]",
            "text/plain": [
              "<Figure size 1080x576 with 2 Axes>"
            ]
          },
          "metadata": {},
          "output_type": "display_data"
        },
        {
          "name": "stdout",
          "output_type": "stream",
          "text": [
            " Accuracy: 81.9672131147541 %\n",
            " Sensitivity: 74.07407407407408 % \n",
            " Specificity: 88.23529411764706 % \n",
            " positive predictive value: 83.33333333333334 % \n",
            " negative predictive value: 14.285714285714285 % \n",
            "\n"
          ]
        }
      ],
      "source": [
        "cm_svm = metrics.confusion_matrix(Y_test,Y_pred_svm)\n",
        "cm_svm = pd.DataFrame(cm_svm)\n",
        "print(cm_svm)\n",
        "sns.heatmap(cm_svm, annot=True)\n",
        "plt.show()\n",
        "\n",
        "TP = cm_svm[0][0]\n",
        "FP = cm_svm[0][1]\n",
        "TN = cm_svm[1][1]\n",
        "FN = cm_svm[1][0]\n",
        "accu_svm = (TP + TN) / (TP + TN + FP + FN)\n",
        "miss_svm = (FP + FN) / (TP + TN + FP + FN)\n",
        "\n",
        "sensitivity_svm = TP / (TP+FN )* 100\n",
        "specificity_svm = TN /(TN + FP)*100\n",
        "ppv_svm = TP / (TP+FP) *100\n",
        "npv_svm = TN / (TN*FN) *100\n",
        "\n",
        "print(' Accuracy:',accu_svm*100,'%\\n','Sensitivity:', sensitivity_svm,'% \\n','Specificity:', specificity_svm,'% \\n','positive predictive value:',ppv_svm,'% \\n','negative predictive value:',npv_svm,'% \\n' ) "
      ]
    },
    {
      "cell_type": "markdown",
      "metadata": {
        "id": "uq-5NBm0yl62"
      },
      "source": [
        "4. KNN"
      ]
    },
    {
      "cell_type": "code",
      "execution_count": null,
      "metadata": {
        "_uuid": "286352867c53d5fb7dac2fc9bf4b2ac58a466ad0",
        "id": "qvqtqT2_yl62",
        "outputId": "e4216c60-e153-4eb2-c5c5-708096d2f5c0"
      },
      "outputs": [
        {
          "name": "stdout",
          "output_type": "stream",
          "text": [
            "The accuracy score achieved using KNN is: 67.21 %\n"
          ]
        }
      ],
      "source": [
        "from sklearn.neighbors import KNeighborsClassifier\n",
        "\n",
        "knn = KNeighborsClassifier(n_neighbors=7)\n",
        "knn.fit(X_train,Y_train)\n",
        "Y_pred_knn=knn.predict(X_test)\n",
        "Y_pred_knn.shape\n",
        "score_knn = round(accuracy_score(Y_pred_knn,Y_test)*100,2)\n",
        "\n",
        "print(\"The accuracy score achieved using KNN is: \"+str(score_knn)+\" %\")"
      ]
    },
    {
      "cell_type": "markdown",
      "metadata": {
        "id": "MlZLIwoFyl62"
      },
      "source": [
        "Now Let's Standardize the Dataset"
      ]
    },
    {
      "cell_type": "code",
      "execution_count": null,
      "metadata": {
        "id": "Vc3q5Skoyl62",
        "outputId": "331a582c-da4c-4383-f3ee-a949174f43b2"
      },
      "outputs": [
        {
          "name": "stdout",
          "output_type": "stream",
          "text": [
            "{'metric': 'manhattan', 'n_neighbors': 11, 'weights': 'uniform'}\n"
          ]
        }
      ],
      "source": [
        "from sklearn.neighbors import KNeighborsClassifier\n",
        "from sklearn.model_selection import GridSearchCV\n",
        "#parameters for grid search\n",
        "knn = KNeighborsClassifier\n",
        "parameters = {'n_neighbors': [3,4,7,9,11], 'weights': ['uniform','distance']}\n",
        "\n",
        "grid_params = {\n",
        "    'n_neighbors': [3,4,5,7,9,11],\n",
        "    'weights': ['uniform','distance'],\n",
        "    'metric' : ['euclidean', 'manhattan']\n",
        "    }\n",
        "\n",
        "gs = GridSearchCV(\n",
        "    KNeighborsClassifier(),\n",
        "    grid_params,\n",
        "    cv = 4,\n",
        "    \n",
        "    scoring='accuracy'\n",
        ")\n",
        "\n",
        "gs_results = gs.fit(x_train1, Y_train)\n",
        "\n",
        "print(gs_results.best_params_)\n",
        "\n",
        "model = gs_results.best_estimator_\n",
        "\n",
        "model.score(x_test1, Y_test)\n",
        "\n",
        "Y_pred_SKNN = model.predict(x_test1)\n"
      ]
    },
    {
      "cell_type": "code",
      "execution_count": null,
      "metadata": {
        "id": "3b9D9Thwyl63",
        "outputId": "9433ce7c-d8fe-49a6-cdff-784a1966cf25"
      },
      "outputs": [
        {
          "data": {
            "image/png": "[encoded data removed]",
            "text/plain": [
              "<Figure size 1080x576 with 2 Axes>"
            ]
          },
          "metadata": {},
          "output_type": "display_data"
        },
        {
          "name": "stdout",
          "output_type": "stream",
          "text": [
            " Accuracy: 88.52459016393442 %\n",
            " Sensitivity: 77.77777777777779 % \n",
            " Specificity: 97.05882352941177 % \n",
            " positive predictive value: 95.45454545454545 % \n",
            " negative predictive value: 16.666666666666664 % \n",
            "\n"
          ]
        }
      ],
      "source": [
        "\n",
        "cm_knn = metrics.confusion_matrix(Y_test,Y_pred_SKNN)\n",
        "cm_knn = pd.DataFrame(cm_knn)\n",
        "sns.heatmap(cm_knn, annot=True)\n",
        "plt.show()\n",
        "\n",
        "TP = cm_knn[0][0]\n",
        "FP = cm_knn[0][1]\n",
        "TN = cm_knn[1][1]\n",
        "FN = cm_knn[1][0]\n",
        "accu_knn = (TP + TN) / (TP + TN + FP + FN)\n",
        "miss_knn = (FP + FN) / (TP + TN + FP + FN)\n",
        "\n",
        "sensitivity_knn = TP / (TP+FN )* 100\n",
        "specificity_knn = TN /(TN + FP)*100\n",
        "ppv_knn = TP / (TP+FP) *100\n",
        "npv_knn = TN / (TN*FN) *100\n",
        "\n",
        "print(' Accuracy:',accu_knn*100,'%\\n','Sensitivity:', sensitivity_knn,'% \\n','Specificity:', specificity_knn,'% \\n','positive predictive value:',ppv_knn,'% \\n','negative predictive value:',npv_knn,'% \\n' ) "
      ]
    },
    {
      "cell_type": "code",
      "execution_count": null,
      "metadata": {
        "id": "CVI2nOa0yl63",
        "outputId": "93b78561-10ba-4b83-b55d-bb7f1d224aba"
      },
      "outputs": [
        {
          "name": "stdout",
          "output_type": "stream",
          "text": [
            "The accuracy score achieved using KNN is: 88.52 %\n"
          ]
        }
      ],
      "source": [
        "score_knn = round(accuracy_score(Y_pred_SKNN,Y_test)*100,2)\n",
        "\n",
        "print(\"The accuracy score achieved using KNN is: \"+str(score_knn)+\" %\")"
      ]
    },
    {
      "cell_type": "markdown",
      "metadata": {
        "id": "19OpBS0pyl63"
      },
      "source": [
        "5. Decision Tree"
      ]
    },
    {
      "cell_type": "code",
      "execution_count": null,
      "metadata": {
        "_uuid": "8c141316764dce80103d1879c9b17d853702a746",
        "id": "Rovjq65Syl63",
        "outputId": "02f2ec46-8c2f-4f38-868d-9e09c7ed26af"
      },
      "outputs": [
        {
          "name": "stdout",
          "output_type": "stream",
          "text": [
            "(61,)\n",
            "The accuracy score achieved using Decision Tree is: 81.97 %\n"
          ]
        }
      ],
      "source": [
        "from sklearn.tree import DecisionTreeClassifier\n",
        "\n",
        "max_accuracy = 0\n",
        "\n",
        "\n",
        "for x in range(200):\n",
        "    dt = DecisionTreeClassifier(random_state=x)\n",
        "    dt.fit(X_train,Y_train)\n",
        "    Y_pred_dt = dt.predict(X_test)\n",
        "    current_accuracy = round(accuracy_score(Y_pred_dt,Y_test)*100,2)\n",
        "    if(current_accuracy>max_accuracy):\n",
        "        max_accuracy = current_accuracy\n",
        "        best_x = x\n",
        "        \n",
        "#print(max_accuracy)\n",
        "#print(best_x)\n",
        "\n",
        "\n",
        "dt = DecisionTreeClassifier(random_state=best_x)\n",
        "dt.fit(X_train,Y_train)\n",
        "Y_pred_dt = dt.predict(X_test)\n",
        "\n",
        "print(Y_pred_dt.shape)\n",
        "\n",
        "score_dt = round(accuracy_score(Y_pred_dt,Y_test)*100,2)\n",
        "\n",
        "print(\"The accuracy score achieved using Decision Tree is: \"+str(score_dt)+\" %\")"
      ]
    },
    {
      "cell_type": "code",
      "execution_count": null,
      "metadata": {
        "id": "pjS92ED1yl63",
        "outputId": "e244f079-5caa-451b-eac6-513941b746d5"
      },
      "outputs": [
        {
          "data": {
            "image/png": "[encoded data removed]",
            "text/plain": [
              "<Figure size 1080x576 with 2 Axes>"
            ]
          },
          "metadata": {},
          "output_type": "display_data"
        },
        {
          "name": "stdout",
          "output_type": "stream",
          "text": [
            " Accuracy: 81.9672131147541 %\n",
            " Sensitivity: 81.48148148148148 % \n",
            " Specificity: 82.35294117647058 % \n",
            " positive predictive value: 78.57142857142857 % \n",
            " negative predictive value: 20.0 % \n",
            "\n"
          ]
        }
      ],
      "source": [
        "cm_dt = metrics.confusion_matrix(Y_test,Y_pred_dt)\n",
        "cm_dt = pd.DataFrame(cm_dt)\n",
        "sns.heatmap(cm_dt, annot=True)\n",
        "plt.show()\n",
        "\n",
        "TP = cm_dt[0][0]\n",
        "FP = cm_dt[0][1]\n",
        "TN = cm_dt[1][1]\n",
        "FN = cm_dt[1][0]\n",
        "accu_dt = (TP + TN) / (TP + TN + FP + FN)\n",
        "miss_dt = (FP + FN) / (TP + TN + FP + FN)\n",
        "\n",
        "sensitivity_dt = TP / (TP+FN )* 100\n",
        "specificity_dt = TN /(TN + FP)*100\n",
        "ppv_dt = TP / (TP+FP) *100\n",
        "npv_dt = TN / (TN*FN) *100\n",
        "\n",
        "print(' Accuracy:',accu_dt*100,'%\\n','Sensitivity:', sensitivity_dt,'% \\n','Specificity:', specificity_dt,'% \\n','positive predictive value:',ppv_dt,'% \\n','negative predictive value:',npv_dt,'% \\n' ) "
      ]
    },
    {
      "cell_type": "markdown",
      "metadata": {
        "id": "BK1264W-yl63"
      },
      "source": [
        "6. Random Forest"
      ]
    },
    {
      "cell_type": "code",
      "execution_count": null,
      "metadata": {
        "_uuid": "8284f5222cf90be1bcd37887c45f91cf22ed1193",
        "id": "xiy9lWFcyl64",
        "outputId": "5dc6e120-96c7-4d58-fbb0-8b8f28b2a797"
      },
      "outputs": [
        {
          "name": "stdout",
          "output_type": "stream",
          "text": [
            "The accuracy score achieved using Random Forest is: 90.16 %\n"
          ]
        }
      ],
      "source": [
        "from sklearn.ensemble import RandomForestClassifier\n",
        "\n",
        "max_accuracy = 0\n",
        "\n",
        "\n",
        "for x in range(2000):\n",
        "    rf = RandomForestClassifier(random_state=x)\n",
        "    rf.fit(X_train,Y_train)\n",
        "    Y_pred_rf = rf.predict(X_test)\n",
        "    current_accuracy = round(accuracy_score(Y_pred_rf,Y_test)*100,2)\n",
        "    if(current_accuracy>max_accuracy):\n",
        "        max_accuracy = current_accuracy\n",
        "        best_x = x\n",
        "        \n",
        "#print(max_accuracy)\n",
        "#print(best_x)\n",
        "\n",
        "rf = RandomForestClassifier(random_state=best_x)\n",
        "rf.fit(X_train,Y_train)\n",
        "Y_pred_rf = rf.predict(X_test)\n",
        "\n",
        "Y_pred_rf.shape\n",
        "\n",
        "score_rf = round(accuracy_score(Y_pred_rf,Y_test)*100,2)\n",
        "\n",
        "print(\"The accuracy score achieved using Random Forest is: \"+str(score_rf)+\" %\")"
      ]
    },
    {
      "cell_type": "code",
      "execution_count": null,
      "metadata": {
        "id": "7vitNBd6yl64",
        "outputId": "aa3cfa5d-6212-442b-cedb-0bb544da663c"
      },
      "outputs": [
        {
          "data": {
            "image/png": "[encoded data removed]",
            "text/plain": [
              "<Figure size 1080x576 with 2 Axes>"
            ]
          },
          "metadata": {},
          "output_type": "display_data"
        },
        {
          "name": "stdout",
          "output_type": "stream",
          "text": [
            " Accuracy: 90.1639344262295 %\n",
            " Sensitivity: 85.18518518518519 % \n",
            " Specificity: 94.11764705882352 % \n",
            " positive predictive value: 92.0 % \n",
            " negative predictive value: 25.0 % \n",
            "\n"
          ]
        }
      ],
      "source": [
        "cm_rf = metrics.confusion_matrix(Y_test,Y_pred_rf)\n",
        "cm_rf = pd.DataFrame(cm_rf)\n",
        "sns.heatmap(cm_rf, annot=True)\n",
        "plt.show()\n",
        "\n",
        "TP = cm_rf[0][0]\n",
        "FP = cm_rf[0][1]\n",
        "TN = cm_rf[1][1]\n",
        "FN = cm_rf[1][0]\n",
        "accu_rf = (TP + TN) / (TP + TN + FP + FN)\n",
        "miss_rf = (FP + FN) / (TP + TN + FP + FN)\n",
        "\n",
        "sensitivity_rf = TP / (TP+FN )* 100\n",
        "specificity_rf = TN /(TN + FP)*100\n",
        "ppv_rf = TP / (TP+FP) *100\n",
        "npv_rf = TN / (TN*FN) *100\n",
        "\n",
        "print(' Accuracy:',accu_rf*100,'%\\n','Sensitivity:', sensitivity_rf,'% \\n','Specificity:', specificity_rf,'% \\n','positive predictive value:',ppv_rf,'% \\n','negative predictive value:',npv_rf,'% \\n' ) "
      ]
    },
    {
      "cell_type": "markdown",
      "metadata": {
        "_uuid": "6a0fc13a6c2fccd6a725a7691cfe95d74348a8ae",
        "id": "nvEmMuROyl64"
      },
      "source": [
        "### XGBoost"
      ]
    },
    {
      "cell_type": "code",
      "execution_count": null,
      "metadata": {
        "_uuid": "5a437f3c0e190887e2192ecb1844eaa6eb1d34a7",
        "id": "zJtzBikYyl64",
        "outputId": "368d43aa-1a86-4d17-9f90-41bfb6b169f4"
      },
      "outputs": [
        {
          "name": "stdout",
          "output_type": "stream",
          "text": [
            "The accuracy score achieved using XGBoost is: 78.69 %\n"
          ]
        }
      ],
      "source": [
        "import xgboost as xgb\n",
        "\n",
        "xgb_model = xgb.XGBClassifier(objective=\"binary:logistic\", random_state=42, eval_metric='mlogloss')\n",
        "xgb_model.fit(x_train1, Y_train)\n",
        "\n",
        "Y_pred_xgb = xgb_model.predict(x_test1)\n",
        "\n",
        "Y_pred_xgb.shape\n",
        "\n",
        "score_xgb = round(accuracy_score(Y_pred_xgb,Y_test)*100,2)\n",
        "\n",
        "print(\"The accuracy score achieved using XGBoost is: \"+str(score_xgb)+\" %\")"
      ]
    },
    {
      "cell_type": "code",
      "execution_count": null,
      "metadata": {
        "id": "ZY75KfGEyl64",
        "outputId": "ed8e6244-23c2-4214-ae6e-ad4bfc32a8de"
      },
      "outputs": [
        {
          "data": {
            "image/png": "[encoded data removed]",
            "text/plain": [
              "<Figure size 1080x576 with 2 Axes>"
            ]
          },
          "metadata": {},
          "output_type": "display_data"
        },
        {
          "name": "stdout",
          "output_type": "stream",
          "text": [
            " Accuracy: 78.68852459016394 %\n",
            " Sensitivity: 77.77777777777779 % \n",
            " Specificity: 79.41176470588235 % \n",
            " positive predictive value: 75.0 % \n",
            " negative predictive value: 16.666666666666664 % \n",
            "\n"
          ]
        }
      ],
      "source": [
        "cm_xgb = metrics.confusion_matrix(Y_test,Y_pred_xgb)\n",
        "cm_xgb = pd.DataFrame(cm_xgb)\n",
        "sns.heatmap(cm_xgb, annot=True)\n",
        "plt.show()\n",
        "\n",
        "TP = cm_xgb[0][0]\n",
        "FP = cm_xgb[0][1]\n",
        "TN = cm_xgb[1][1]\n",
        "FN = cm_xgb[1][0]\n",
        "accu_xgb = (TP + TN) / (TP + TN + FP + FN)\n",
        "miss_xgb = (FP + FN) / (TP + TN + FP + FN)\n",
        "\n",
        "sensitivity_xgb = TP / (TP+FN )* 100\n",
        "specificity_xgb = TN /(TN + FP)*100\n",
        "ppv_xgb = TP / (TP+FP) *100\n",
        "npv_xgb = TN / (TN*FN) *100\n",
        "\n",
        "print(' Accuracy:',accu_xgb*100,'%\\n','Sensitivity:', sensitivity_xgb,'% \\n','Specificity:', specificity_xgb,'% \\n','positive predictive value:',ppv_xgb,'% \\n','negative predictive value:',npv_xgb,'% \\n' ) "
      ]
    },
    {
      "cell_type": "markdown",
      "metadata": {
        "_uuid": "e224ab23f275a3a56cdba6a9ccfddbd6a4d3b4fd",
        "id": "9kw6zydUyl64"
      },
      "source": [
        "### Neural Network"
      ]
    },
    {
      "cell_type": "code",
      "execution_count": null,
      "metadata": {
        "_uuid": "727b391ad6d86468a96e93dc645ade6e2da4048e",
        "id": "dnCdBwbjyl65",
        "outputId": "91fc2ff1-de48-422b-e704-64df9c4605b9"
      },
      "outputs": [
        {
          "name": "stderr",
          "output_type": "stream",
          "text": [
            "Using TensorFlow backend.\n"
          ]
        }
      ],
      "source": [
        "from keras.models import Sequential\n",
        "from keras.layers import Dense"
      ]
    },
    {
      "cell_type": "code",
      "execution_count": null,
      "metadata": {
        "_uuid": "650f1baa7db466923626c707408319fa29f22d10",
        "id": "NXf4eA2cyl65"
      },
      "outputs": [],
      "source": [
        "# https://stats.stackexchange.com/a/136542 helped a lot in avoiding overfitting\n",
        "\n",
        "model = Sequential()\n",
        "model.add(Dense(11,activation='relu',input_dim=13))\n",
        "model.add(Dense(1,activation='sigmoid'))\n",
        "\n",
        "model.compile(loss='binary_crossentropy',optimizer='adam',metrics=['accuracy'])"
      ]
    },
    {
      "cell_type": "code",
      "execution_count": null,
      "metadata": {
        "_uuid": "dde4e50b5c4c24c73b03133fc7c90bf663fd6d82",
        "id": "IVAcuylKyl65",
        "outputId": "db8fcfb2-5ad3-4217-c26a-09e606c5cb7d"
      },
      "outputs": [
        {
          "name": "stdout",
          "output_type": "stream",
          "text": [
            "Epoch 1/300\n",
            "242/242 [==============================] - 0s 1ms/step - loss: 0.6849 - acc: 0.6570\n",
            "Epoch 2/300\n",
            "242/242 [==============================] - 0s 39us/step - loss: 0.6619 - acc: 0.6736\n",
            "Epoch 3/300\n",
            "242/242 [==============================] - 0s 49us/step - loss: 0.6403 - acc: 0.6983\n",
            "Epoch 4/300\n",
            "242/242 [==============================] - 0s 52us/step - loss: 0.6212 - acc: 0.7231\n",
            "Epoch 5/300\n",
            "242/242 [==============================] - 0s 45us/step - loss: 0.6043 - acc: 0.7314\n",
            "Epoch 6/300\n",
            "242/242 [==============================] - 0s 41us/step - loss: 0.5869 - acc: 0.7273\n",
            "Epoch 7/300\n",
            "242/242 [==============================] - 0s 42us/step - loss: 0.5720 - acc: 0.7438\n",
            "Epoch 8/300\n",
            "242/242 [==============================] - 0s 45us/step - loss: 0.5575 - acc: 0.7438\n",
            "Epoch 9/300\n",
            "242/242 [==============================] - 0s 37us/step - loss: 0.5448 - acc: 0.7479\n",
            "Epoch 10/300\n",
            "242/242 [==============================] - 0s 38us/step - loss: 0.5318 - acc: 0.7562\n",
            "Epoch 11/300\n",
            "242/242 [==============================] - 0s 46us/step - loss: 0.5199 - acc: 0.7686\n",
            "Epoch 12/300\n",
            "242/242 [==============================] - 0s 46us/step - loss: 0.5084 - acc: 0.7769\n",
            "Epoch 13/300\n",
            "242/242 [==============================] - 0s 37us/step - loss: 0.4975 - acc: 0.7769\n",
            "Epoch 14/300\n",
            "242/242 [==============================] - 0s 41us/step - loss: 0.4875 - acc: 0.7810\n",
            "Epoch 15/300\n",
            "242/242 [==============================] - 0s 41us/step - loss: 0.4788 - acc: 0.7851\n",
            "Epoch 16/300\n",
            "242/242 [==============================] - 0s 39us/step - loss: 0.4704 - acc: 0.7893\n",
            "Epoch 17/300\n",
            "242/242 [==============================] - 0s 45us/step - loss: 0.4617 - acc: 0.7934\n",
            "Epoch 18/300\n",
            "242/242 [==============================] - 0s 41us/step - loss: 0.4544 - acc: 0.8017\n",
            "Epoch 19/300\n",
            "242/242 [==============================] - 0s 41us/step - loss: 0.4480 - acc: 0.8058\n",
            "Epoch 20/300\n",
            "242/242 [==============================] - 0s 45us/step - loss: 0.4412 - acc: 0.8099\n",
            "Epoch 21/300\n",
            "242/242 [==============================] - 0s 41us/step - loss: 0.4347 - acc: 0.8140\n",
            "Epoch 22/300\n",
            "242/242 [==============================] - 0s 39us/step - loss: 0.4289 - acc: 0.8264\n",
            "Epoch 23/300\n",
            "242/242 [==============================] - 0s 37us/step - loss: 0.4234 - acc: 0.8306\n",
            "Epoch 24/300\n",
            "242/242 [==============================] - 0s 42us/step - loss: 0.4183 - acc: 0.8347\n",
            "Epoch 25/300\n",
            "242/242 [==============================] - 0s 46us/step - loss: 0.4134 - acc: 0.8430\n",
            "Epoch 26/300\n",
            "242/242 [==============================] - 0s 56us/step - loss: 0.4090 - acc: 0.8430\n",
            "Epoch 27/300\n",
            "242/242 [==============================] - 0s 48us/step - loss: 0.4046 - acc: 0.8430\n",
            "Epoch 28/300\n",
            "242/242 [==============================] - 0s 50us/step - loss: 0.4009 - acc: 0.8471\n",
            "Epoch 29/300\n",
            "242/242 [==============================] - 0s 49us/step - loss: 0.3969 - acc: 0.8471\n",
            "Epoch 30/300\n",
            "242/242 [==============================] - 0s 43us/step - loss: 0.3937 - acc: 0.8471\n",
            "Epoch 31/300\n",
            "242/242 [==============================] - 0s 45us/step - loss: 0.3904 - acc: 0.8512\n",
            "Epoch 32/300\n",
            "242/242 [==============================] - 0s 50us/step - loss: 0.3874 - acc: 0.8512\n",
            "Epoch 33/300\n",
            "242/242 [==============================] - 0s 50us/step - loss: 0.3849 - acc: 0.8512\n",
            "Epoch 34/300\n",
            "242/242 [==============================] - 0s 51us/step - loss: 0.3817 - acc: 0.8554\n",
            "Epoch 35/300\n",
            "242/242 [==============================] - 0s 46us/step - loss: 0.3793 - acc: 0.8554\n",
            "Epoch 36/300\n",
            "242/242 [==============================] - 0s 53us/step - loss: 0.3767 - acc: 0.8554\n",
            "Epoch 37/300\n",
            "242/242 [==============================] - 0s 54us/step - loss: 0.3745 - acc: 0.8595\n",
            "Epoch 38/300\n",
            "242/242 [==============================] - 0s 81us/step - loss: 0.3722 - acc: 0.8595\n",
            "Epoch 39/300\n",
            "242/242 [==============================] - 0s 44us/step - loss: 0.3700 - acc: 0.8595\n",
            "Epoch 40/300\n",
            "242/242 [==============================] - 0s 176us/step - loss: 0.3678 - acc: 0.8595\n",
            "Epoch 41/300\n",
            "242/242 [==============================] - ETA: 0s - loss: 0.4440 - acc: 0.812 - 0s 94us/step - loss: 0.3657 - acc: 0.8595\n",
            "Epoch 42/300\n",
            "242/242 [==============================] - 0s 46us/step - loss: 0.3639 - acc: 0.8636\n",
            "Epoch 43/300\n",
            "242/242 [==============================] - 0s 45us/step - loss: 0.3619 - acc: 0.8636\n",
            "Epoch 44/300\n",
            "242/242 [==============================] - 0s 45us/step - loss: 0.3602 - acc: 0.8636\n",
            "Epoch 45/300\n",
            "242/242 [==============================] - 0s 42us/step - loss: 0.3583 - acc: 0.8678\n",
            "Epoch 46/300\n",
            "242/242 [==============================] - 0s 46us/step - loss: 0.3565 - acc: 0.8636\n",
            "Epoch 47/300\n",
            "242/242 [==============================] - 0s 43us/step - loss: 0.3549 - acc: 0.8636\n",
            "Epoch 48/300\n",
            "242/242 [==============================] - 0s 39us/step - loss: 0.3533 - acc: 0.8636\n",
            "Epoch 49/300\n",
            "242/242 [==============================] - 0s 41us/step - loss: 0.3518 - acc: 0.8636\n",
            "Epoch 50/300\n",
            "242/242 [==============================] - 0s 37us/step - loss: 0.3501 - acc: 0.8636\n",
            "Epoch 51/300\n",
            "242/242 [==============================] - 0s 42us/step - loss: 0.3486 - acc: 0.8678\n",
            "Epoch 52/300\n",
            "242/242 [==============================] - 0s 45us/step - loss: 0.3473 - acc: 0.8678\n",
            "Epoch 53/300\n",
            "242/242 [==============================] - 0s 37us/step - loss: 0.3459 - acc: 0.8719\n",
            "Epoch 54/300\n",
            "242/242 [==============================] - 0s 46us/step - loss: 0.3446 - acc: 0.8719\n",
            "Epoch 55/300\n",
            "242/242 [==============================] - 0s 45us/step - loss: 0.3433 - acc: 0.8719\n",
            "Epoch 56/300\n",
            "242/242 [==============================] - 0s 51us/step - loss: 0.3420 - acc: 0.8719\n",
            "Epoch 57/300\n",
            "242/242 [==============================] - 0s 50us/step - loss: 0.3409 - acc: 0.8719\n",
            "Epoch 58/300\n",
            "242/242 [==============================] - 0s 63us/step - loss: 0.3397 - acc: 0.8719\n",
            "Epoch 59/300\n",
            "242/242 [==============================] - 0s 56us/step - loss: 0.3385 - acc: 0.8719\n",
            "Epoch 60/300\n",
            "242/242 [==============================] - 0s 42us/step - loss: 0.3375 - acc: 0.8719\n",
            "Epoch 61/300\n",
            "242/242 [==============================] - 0s 38us/step - loss: 0.3364 - acc: 0.8719\n",
            "Epoch 62/300\n",
            "242/242 [==============================] - 0s 44us/step - loss: 0.3356 - acc: 0.8760\n",
            "Epoch 63/300\n",
            "242/242 [==============================] - 0s 41us/step - loss: 0.3346 - acc: 0.8760\n",
            "Epoch 64/300\n",
            "242/242 [==============================] - 0s 41us/step - loss: 0.3335 - acc: 0.8760\n",
            "Epoch 65/300\n",
            "242/242 [==============================] - 0s 47us/step - loss: 0.3326 - acc: 0.8760\n",
            "Epoch 66/300\n",
            "242/242 [==============================] - 0s 43us/step - loss: 0.3318 - acc: 0.8760\n",
            "Epoch 67/300\n",
            "242/242 [==============================] - 0s 44us/step - loss: 0.3310 - acc: 0.8760\n",
            "Epoch 68/300\n",
            "242/242 [==============================] - 0s 47us/step - loss: 0.3300 - acc: 0.8760\n",
            "Epoch 69/300\n",
            "242/242 [==============================] - 0s 48us/step - loss: 0.3291 - acc: 0.8760\n",
            "Epoch 70/300\n",
            "242/242 [==============================] - 0s 45us/step - loss: 0.3283 - acc: 0.8760\n",
            "Epoch 71/300\n",
            "242/242 [==============================] - 0s 45us/step - loss: 0.3273 - acc: 0.8760\n",
            "Epoch 72/300\n",
            "242/242 [==============================] - 0s 46us/step - loss: 0.3266 - acc: 0.8760\n",
            "Epoch 73/300\n",
            "242/242 [==============================] - 0s 49us/step - loss: 0.3259 - acc: 0.8760\n",
            "Epoch 74/300\n",
            "242/242 [==============================] - ETA: 0s - loss: 0.3712 - acc: 0.875 - 0s 39us/step - loss: 0.3251 - acc: 0.8760\n",
            "Epoch 75/300\n",
            "242/242 [==============================] - 0s 45us/step - loss: 0.3243 - acc: 0.8760\n",
            "Epoch 76/300\n",
            "242/242 [==============================] - 0s 45us/step - loss: 0.3234 - acc: 0.8760\n",
            "Epoch 77/300\n",
            "242/242 [==============================] - 0s 50us/step - loss: 0.3227 - acc: 0.8760\n",
            "Epoch 78/300\n",
            "242/242 [==============================] - 0s 46us/step - loss: 0.3219 - acc: 0.8760\n",
            "Epoch 79/300\n",
            "242/242 [==============================] - ETA: 0s - loss: 0.2204 - acc: 0.937 - 0s 38us/step - loss: 0.3211 - acc: 0.8760\n",
            "Epoch 80/300\n",
            "242/242 [==============================] - 0s 45us/step - loss: 0.3206 - acc: 0.8760\n",
            "Epoch 81/300\n",
            "242/242 [==============================] - 0s 46us/step - loss: 0.3200 - acc: 0.8760\n",
            "Epoch 82/300\n",
            "242/242 [==============================] - 0s 41us/step - loss: 0.3191 - acc: 0.8760\n",
            "Epoch 83/300\n",
            "242/242 [==============================] - 0s 46us/step - loss: 0.3185 - acc: 0.8760\n",
            "Epoch 84/300\n",
            "242/242 [==============================] - 0s 45us/step - loss: 0.3178 - acc: 0.8760\n",
            "Epoch 85/300\n",
            "242/242 [==============================] - 0s 46us/step - loss: 0.3172 - acc: 0.8760\n",
            "Epoch 86/300\n",
            "242/242 [==============================] - 0s 51us/step - loss: 0.3164 - acc: 0.8760\n",
            "Epoch 87/300\n",
            "242/242 [==============================] - 0s 46us/step - loss: 0.3158 - acc: 0.8760\n",
            "Epoch 88/300\n",
            "242/242 [==============================] - 0s 49us/step - loss: 0.3151 - acc: 0.8760\n",
            "Epoch 89/300\n",
            "242/242 [==============================] - 0s 54us/step - loss: 0.3143 - acc: 0.8760\n",
            "Epoch 90/300\n",
            "242/242 [==============================] - 0s 45us/step - loss: 0.3136 - acc: 0.8760\n",
            "Epoch 91/300\n",
            "242/242 [==============================] - 0s 47us/step - loss: 0.3130 - acc: 0.8802\n",
            "Epoch 92/300\n",
            "242/242 [==============================] - 0s 41us/step - loss: 0.3123 - acc: 0.8802\n",
            "Epoch 93/300\n",
            "242/242 [==============================] - 0s 41us/step - loss: 0.3117 - acc: 0.8802\n",
            "Epoch 94/300\n",
            "242/242 [==============================] - 0s 43us/step - loss: 0.3112 - acc: 0.8802\n",
            "Epoch 95/300\n",
            "242/242 [==============================] - 0s 41us/step - loss: 0.3107 - acc: 0.8802\n",
            "Epoch 96/300\n",
            "242/242 [==============================] - 0s 54us/step - loss: 0.3101 - acc: 0.8802\n",
            "Epoch 97/300\n",
            "242/242 [==============================] - 0s 41us/step - loss: 0.3093 - acc: 0.8802\n",
            "Epoch 98/300\n",
            "242/242 [==============================] - ETA: 0s - loss: 0.4462 - acc: 0.843 - 0s 42us/step - loss: 0.3090 - acc: 0.8802\n",
            "Epoch 99/300\n",
            "242/242 [==============================] - 0s 48us/step - loss: 0.3082 - acc: 0.8802\n",
            "Epoch 100/300\n",
            "242/242 [==============================] - 0s 52us/step - loss: 0.3077 - acc: 0.8802\n",
            "Epoch 101/300\n",
            "242/242 [==============================] - 0s 46us/step - loss: 0.3072 - acc: 0.8802\n",
            "Epoch 102/300\n",
            "242/242 [==============================] - 0s 49us/step - loss: 0.3065 - acc: 0.8802\n",
            "Epoch 103/300\n",
            "242/242 [==============================] - 0s 46us/step - loss: 0.3061 - acc: 0.8802\n",
            "Epoch 104/300\n",
            "242/242 [==============================] - 0s 46us/step - loss: 0.3057 - acc: 0.8802\n",
            "Epoch 105/300\n",
            "242/242 [==============================] - ETA: 0s - loss: 0.3392 - acc: 0.843 - 0s 45us/step - loss: 0.3051 - acc: 0.8802\n",
            "Epoch 106/300\n",
            "242/242 [==============================] - 0s 45us/step - loss: 0.3046 - acc: 0.8843\n",
            "Epoch 107/300\n",
            "242/242 [==============================] - 0s 36us/step - loss: 0.3042 - acc: 0.8843\n",
            "Epoch 108/300\n",
            "242/242 [==============================] - 0s 45us/step - loss: 0.3037 - acc: 0.8843\n",
            "Epoch 109/300\n",
            "242/242 [==============================] - 0s 45us/step - loss: 0.3031 - acc: 0.8843\n",
            "Epoch 110/300\n",
            "242/242 [==============================] - 0s 49us/step - loss: 0.3028 - acc: 0.8843\n",
            "Epoch 111/300\n",
            "242/242 [==============================] - 0s 42us/step - loss: 0.3022 - acc: 0.8843\n",
            "Epoch 112/300\n",
            "242/242 [==============================] - ETA: 0s - loss: 0.2954 - acc: 0.875 - 0s 44us/step - loss: 0.3018 - acc: 0.8802\n",
            "Epoch 113/300\n",
            "242/242 [==============================] - 0s 45us/step - loss: 0.3014 - acc: 0.8802\n",
            "Epoch 114/300\n",
            "242/242 [==============================] - 0s 45us/step - loss: 0.3010 - acc: 0.8802\n",
            "Epoch 115/300\n",
            "242/242 [==============================] - 0s 41us/step - loss: 0.3006 - acc: 0.8802\n",
            "Epoch 116/300\n",
            "242/242 [==============================] - 0s 43us/step - loss: 0.2999 - acc: 0.8802\n",
            "Epoch 117/300\n",
            "242/242 [==============================] - 0s 52us/step - loss: 0.2996 - acc: 0.8802\n",
            "Epoch 118/300\n",
            "242/242 [==============================] - 0s 50us/step - loss: 0.2991 - acc: 0.8802\n",
            "Epoch 119/300\n",
            "242/242 [==============================] - 0s 51us/step - loss: 0.2987 - acc: 0.8802\n",
            "Epoch 120/300\n",
            "242/242 [==============================] - 0s 43us/step - loss: 0.2981 - acc: 0.8802\n",
            "Epoch 121/300\n",
            "242/242 [==============================] - 0s 37us/step - loss: 0.2977 - acc: 0.8802\n",
            "Epoch 122/300\n",
            "242/242 [==============================] - ETA: 0s - loss: 0.1268 - acc: 0.968 - 0s 41us/step - loss: 0.2972 - acc: 0.8802\n",
            "Epoch 123/300\n",
            "242/242 [==============================] - 0s 48us/step - loss: 0.2968 - acc: 0.8802\n",
            "Epoch 124/300\n",
            "242/242 [==============================] - 0s 44us/step - loss: 0.2964 - acc: 0.8802\n",
            "Epoch 125/300\n",
            "242/242 [==============================] - 0s 44us/step - loss: 0.2960 - acc: 0.8802\n",
            "Epoch 126/300\n",
            "242/242 [==============================] - 0s 46us/step - loss: 0.2956 - acc: 0.8802\n",
            "Epoch 127/300\n",
            "242/242 [==============================] - 0s 45us/step - loss: 0.2953 - acc: 0.8802\n",
            "Epoch 128/300\n",
            "242/242 [==============================] - 0s 41us/step - loss: 0.2948 - acc: 0.8802\n",
            "Epoch 129/300\n",
            "242/242 [==============================] - 0s 45us/step - loss: 0.2944 - acc: 0.8802\n",
            "Epoch 130/300\n",
            "242/242 [==============================] - 0s 41us/step - loss: 0.2940 - acc: 0.8802\n",
            "Epoch 131/300\n",
            "242/242 [==============================] - 0s 49us/step - loss: 0.2937 - acc: 0.8843\n",
            "Epoch 132/300\n",
            "242/242 [==============================] - 0s 48us/step - loss: 0.2934 - acc: 0.8843\n",
            "Epoch 133/300\n",
            "242/242 [==============================] - 0s 45us/step - loss: 0.2930 - acc: 0.8843\n",
            "Epoch 134/300\n",
            "242/242 [==============================] - 0s 41us/step - loss: 0.2925 - acc: 0.8843\n",
            "Epoch 135/300\n",
            "242/242 [==============================] - 0s 44us/step - loss: 0.2921 - acc: 0.8843\n",
            "Epoch 136/300\n",
            "242/242 [==============================] - 0s 53us/step - loss: 0.2916 - acc: 0.8843\n",
            "Epoch 137/300\n",
            "242/242 [==============================] - 0s 45us/step - loss: 0.2913 - acc: 0.8843\n",
            "Epoch 138/300\n",
            "242/242 [==============================] - 0s 52us/step - loss: 0.2910 - acc: 0.8843\n",
            "Epoch 139/300\n",
            "242/242 [==============================] - 0s 44us/step - loss: 0.2906 - acc: 0.8802\n",
            "Epoch 140/300\n",
            "242/242 [==============================] - 0s 41us/step - loss: 0.2901 - acc: 0.8802\n",
            "Epoch 141/300\n",
            "242/242 [==============================] - 0s 48us/step - loss: 0.2896 - acc: 0.8802\n",
            "Epoch 142/300\n",
            "242/242 [==============================] - 0s 49us/step - loss: 0.2894 - acc: 0.8802\n",
            "Epoch 143/300\n",
            "242/242 [==============================] - 0s 49us/step - loss: 0.2889 - acc: 0.8802\n",
            "Epoch 144/300\n",
            "242/242 [==============================] - 0s 38us/step - loss: 0.2885 - acc: 0.8802\n",
            "Epoch 145/300\n",
            "242/242 [==============================] - 0s 51us/step - loss: 0.2880 - acc: 0.8802\n",
            "Epoch 146/300\n",
            "242/242 [==============================] - 0s 49us/step - loss: 0.2876 - acc: 0.8802\n",
            "Epoch 147/300\n",
            "242/242 [==============================] - 0s 45us/step - loss: 0.2873 - acc: 0.8802\n",
            "Epoch 148/300\n",
            "242/242 [==============================] - 0s 45us/step - loss: 0.2868 - acc: 0.8802\n",
            "Epoch 149/300\n",
            "242/242 [==============================] - 0s 45us/step - loss: 0.2864 - acc: 0.8802\n",
            "Epoch 150/300\n",
            "242/242 [==============================] - 0s 48us/step - loss: 0.2860 - acc: 0.8802\n",
            "Epoch 151/300\n",
            "242/242 [==============================] - 0s 46us/step - loss: 0.2858 - acc: 0.8802\n",
            "Epoch 152/300\n",
            "242/242 [==============================] - 0s 41us/step - loss: 0.2853 - acc: 0.8802\n",
            "Epoch 153/300\n",
            "242/242 [==============================] - 0s 185us/step - loss: 0.2849 - acc: 0.8802\n",
            "Epoch 154/300\n",
            "242/242 [==============================] - 0s 57us/step - loss: 0.2844 - acc: 0.8802\n",
            "Epoch 155/300\n",
            "242/242 [==============================] - 0s 45us/step - loss: 0.2840 - acc: 0.8802\n",
            "Epoch 156/300\n",
            "242/242 [==============================] - 0s 46us/step - loss: 0.2835 - acc: 0.8802\n",
            "Epoch 157/300\n",
            "242/242 [==============================] - 0s 44us/step - loss: 0.2832 - acc: 0.8802\n",
            "Epoch 158/300\n",
            "242/242 [==============================] - 0s 46us/step - loss: 0.2827 - acc: 0.8802\n",
            "Epoch 159/300\n",
            "242/242 [==============================] - 0s 45us/step - loss: 0.2823 - acc: 0.8802\n",
            "Epoch 160/300\n",
            "242/242 [==============================] - 0s 43us/step - loss: 0.2820 - acc: 0.8802\n",
            "Epoch 161/300\n",
            "242/242 [==============================] - 0s 54us/step - loss: 0.2816 - acc: 0.8802\n",
            "Epoch 162/300\n",
            "242/242 [==============================] - 0s 52us/step - loss: 0.2812 - acc: 0.8802\n",
            "Epoch 163/300\n",
            "242/242 [==============================] - 0s 51us/step - loss: 0.2809 - acc: 0.8802\n",
            "Epoch 164/300\n",
            "242/242 [==============================] - 0s 45us/step - loss: 0.2804 - acc: 0.8802\n",
            "Epoch 165/300\n",
            "242/242 [==============================] - 0s 46us/step - loss: 0.2800 - acc: 0.8802\n",
            "Epoch 166/300\n",
            "242/242 [==============================] - 0s 48us/step - loss: 0.2797 - acc: 0.8802\n",
            "Epoch 167/300\n",
            "242/242 [==============================] - ETA: 0s - loss: 0.2464 - acc: 0.906 - 0s 45us/step - loss: 0.2793 - acc: 0.8802\n",
            "Epoch 168/300\n",
            "242/242 [==============================] - 0s 48us/step - loss: 0.2789 - acc: 0.8802\n",
            "Epoch 169/300\n",
            "242/242 [==============================] - 0s 45us/step - loss: 0.2785 - acc: 0.8802\n",
            "Epoch 170/300\n",
            "242/242 [==============================] - 0s 46us/step - loss: 0.2782 - acc: 0.8802\n",
            "Epoch 171/300\n",
            "242/242 [==============================] - 0s 62us/step - loss: 0.2781 - acc: 0.8802\n",
            "Epoch 172/300\n",
            "242/242 [==============================] - 0s 41us/step - loss: 0.2774 - acc: 0.8802\n",
            "Epoch 173/300\n",
            "242/242 [==============================] - 0s 52us/step - loss: 0.2771 - acc: 0.8802\n",
            "Epoch 174/300\n",
            "242/242 [==============================] - 0s 51us/step - loss: 0.2766 - acc: 0.8802\n",
            "Epoch 175/300\n",
            "242/242 [==============================] - 0s 41us/step - loss: 0.2764 - acc: 0.8802\n",
            "Epoch 176/300\n",
            "242/242 [==============================] - 0s 47us/step - loss: 0.2761 - acc: 0.8802\n",
            "Epoch 177/300\n",
            "242/242 [==============================] - 0s 41us/step - loss: 0.2756 - acc: 0.8802\n",
            "Epoch 178/300\n",
            "242/242 [==============================] - 0s 47us/step - loss: 0.2753 - acc: 0.8802\n",
            "Epoch 179/300\n",
            "242/242 [==============================] - 0s 54us/step - loss: 0.2749 - acc: 0.8802\n",
            "Epoch 180/300\n",
            "242/242 [==============================] - 0s 50us/step - loss: 0.2746 - acc: 0.8802\n",
            "Epoch 181/300\n",
            "242/242 [==============================] - 0s 42us/step - loss: 0.2743 - acc: 0.8802\n",
            "Epoch 182/300\n",
            "242/242 [==============================] - 0s 43us/step - loss: 0.2737 - acc: 0.8802\n",
            "Epoch 183/300\n",
            "242/242 [==============================] - 0s 45us/step - loss: 0.2734 - acc: 0.8802\n",
            "Epoch 184/300\n",
            "242/242 [==============================] - 0s 47us/step - loss: 0.2730 - acc: 0.8802\n",
            "Epoch 185/300\n",
            "242/242 [==============================] - 0s 41us/step - loss: 0.2727 - acc: 0.8802\n",
            "Epoch 186/300\n",
            "242/242 [==============================] - 0s 44us/step - loss: 0.2723 - acc: 0.8802\n",
            "Epoch 187/300\n",
            "242/242 [==============================] - 0s 55us/step - loss: 0.2719 - acc: 0.8802\n",
            "Epoch 188/300\n",
            "242/242 [==============================] - 0s 49us/step - loss: 0.2714 - acc: 0.8802\n",
            "Epoch 189/300\n",
            "242/242 [==============================] - 0s 46us/step - loss: 0.2710 - acc: 0.8802\n",
            "Epoch 190/300\n",
            "242/242 [==============================] - 0s 43us/step - loss: 0.2709 - acc: 0.8802\n",
            "Epoch 191/300\n",
            "242/242 [==============================] - 0s 44us/step - loss: 0.2703 - acc: 0.8802\n",
            "Epoch 192/300\n",
            "242/242 [==============================] - 0s 53us/step - loss: 0.2701 - acc: 0.8802\n",
            "Epoch 193/300\n",
            "242/242 [==============================] - 0s 50us/step - loss: 0.2696 - acc: 0.8802\n",
            "Epoch 194/300\n",
            "242/242 [==============================] - 0s 58us/step - loss: 0.2693 - acc: 0.8802\n",
            "Epoch 195/300\n",
            "242/242 [==============================] - 0s 82us/step - loss: 0.2688 - acc: 0.8802\n",
            "Epoch 196/300\n",
            "242/242 [==============================] - 0s 55us/step - loss: 0.2685 - acc: 0.8802\n",
            "Epoch 197/300\n",
            "242/242 [==============================] - 0s 49us/step - loss: 0.2683 - acc: 0.8802\n",
            "Epoch 198/300\n",
            "242/242 [==============================] - 0s 43us/step - loss: 0.2679 - acc: 0.8802\n",
            "Epoch 199/300\n",
            "242/242 [==============================] - 0s 52us/step - loss: 0.2674 - acc: 0.8802\n",
            "Epoch 200/300\n",
            "242/242 [==============================] - 0s 51us/step - loss: 0.2670 - acc: 0.8802\n",
            "Epoch 201/300\n",
            "242/242 [==============================] - 0s 54us/step - loss: 0.2666 - acc: 0.8802\n",
            "Epoch 202/300\n",
            "242/242 [==============================] - 0s 55us/step - loss: 0.2663 - acc: 0.8843\n",
            "Epoch 203/300\n",
            "242/242 [==============================] - 0s 51us/step - loss: 0.2658 - acc: 0.8843\n",
            "Epoch 204/300\n",
            "242/242 [==============================] - 0s 51us/step - loss: 0.2654 - acc: 0.8843\n",
            "Epoch 205/300\n",
            "242/242 [==============================] - 0s 42us/step - loss: 0.2650 - acc: 0.8843\n",
            "Epoch 206/300\n",
            "242/242 [==============================] - 0s 49us/step - loss: 0.2646 - acc: 0.8843\n",
            "Epoch 207/300\n",
            "242/242 [==============================] - 0s 53us/step - loss: 0.2642 - acc: 0.8926\n",
            "Epoch 208/300\n",
            "242/242 [==============================] - 0s 57us/step - loss: 0.2639 - acc: 0.8926\n",
            "Epoch 209/300\n",
            "242/242 [==============================] - 0s 49us/step - loss: 0.2637 - acc: 0.8926\n",
            "Epoch 210/300\n",
            "242/242 [==============================] - 0s 54us/step - loss: 0.2631 - acc: 0.8926\n",
            "Epoch 211/300\n",
            "242/242 [==============================] - 0s 51us/step - loss: 0.2628 - acc: 0.8926\n",
            "Epoch 212/300\n",
            "242/242 [==============================] - 0s 45us/step - loss: 0.2624 - acc: 0.8926\n",
            "Epoch 213/300\n",
            "242/242 [==============================] - 0s 43us/step - loss: 0.2619 - acc: 0.8926\n",
            "Epoch 214/300\n",
            "242/242 [==============================] - 0s 55us/step - loss: 0.2614 - acc: 0.8926\n",
            "Epoch 215/300\n",
            "242/242 [==============================] - 0s 49us/step - loss: 0.2612 - acc: 0.8884\n",
            "Epoch 216/300\n",
            "242/242 [==============================] - 0s 41us/step - loss: 0.2609 - acc: 0.8884\n",
            "Epoch 217/300\n",
            "242/242 [==============================] - 0s 56us/step - loss: 0.2604 - acc: 0.8926\n",
            "Epoch 218/300\n",
            "242/242 [==============================] - 0s 54us/step - loss: 0.2601 - acc: 0.8884\n",
            "Epoch 219/300\n",
            "242/242 [==============================] - 0s 43us/step - loss: 0.2596 - acc: 0.8926\n",
            "Epoch 220/300\n",
            "242/242 [==============================] - 0s 46us/step - loss: 0.2592 - acc: 0.8926\n",
            "Epoch 221/300\n",
            "242/242 [==============================] - 0s 56us/step - loss: 0.2587 - acc: 0.8926\n",
            "Epoch 222/300\n",
            "242/242 [==============================] - 0s 41us/step - loss: 0.2582 - acc: 0.8926\n",
            "Epoch 223/300\n",
            "242/242 [==============================] - ETA: 0s - loss: 0.2058 - acc: 0.875 - 0s 58us/step - loss: 0.2578 - acc: 0.8926\n",
            "Epoch 224/300\n",
            "242/242 [==============================] - 0s 51us/step - loss: 0.2576 - acc: 0.8967\n",
            "Epoch 225/300\n",
            "242/242 [==============================] - 0s 49us/step - loss: 0.2571 - acc: 0.8967\n",
            "Epoch 226/300\n",
            "242/242 [==============================] - 0s 59us/step - loss: 0.2566 - acc: 0.8967\n",
            "Epoch 227/300\n",
            "242/242 [==============================] - 0s 55us/step - loss: 0.2564 - acc: 0.8967\n",
            "Epoch 228/300\n",
            "242/242 [==============================] - 0s 58us/step - loss: 0.2560 - acc: 0.8967\n",
            "Epoch 229/300\n",
            "242/242 [==============================] - 0s 49us/step - loss: 0.2555 - acc: 0.8967\n",
            "Epoch 230/300\n",
            "242/242 [==============================] - 0s 56us/step - loss: 0.2555 - acc: 0.9008\n",
            "Epoch 231/300\n",
            "242/242 [==============================] - 0s 53us/step - loss: 0.2550 - acc: 0.9008\n",
            "Epoch 232/300\n",
            "242/242 [==============================] - 0s 51us/step - loss: 0.2546 - acc: 0.9008\n",
            "Epoch 233/300\n",
            "242/242 [==============================] - 0s 52us/step - loss: 0.2541 - acc: 0.9008\n",
            "Epoch 234/300\n",
            "242/242 [==============================] - 0s 69us/step - loss: 0.2536 - acc: 0.9008\n",
            "Epoch 235/300\n",
            "242/242 [==============================] - 0s 67us/step - loss: 0.2534 - acc: 0.9008\n",
            "Epoch 236/300\n",
            "242/242 [==============================] - 0s 65us/step - loss: 0.2529 - acc: 0.9008\n",
            "Epoch 237/300\n",
            "242/242 [==============================] - 0s 61us/step - loss: 0.2526 - acc: 0.9008\n",
            "Epoch 238/300\n",
            "242/242 [==============================] - 0s 52us/step - loss: 0.2522 - acc: 0.9008\n",
            "Epoch 239/300\n",
            "242/242 [==============================] - 0s 54us/step - loss: 0.2519 - acc: 0.9008\n",
            "Epoch 240/300\n",
            "242/242 [==============================] - 0s 51us/step - loss: 0.2513 - acc: 0.9008\n",
            "Epoch 241/300\n",
            "242/242 [==============================] - 0s 52us/step - loss: 0.2511 - acc: 0.9008\n",
            "Epoch 242/300\n",
            "242/242 [==============================] - 0s 45us/step - loss: 0.2507 - acc: 0.9008\n",
            "Epoch 243/300\n",
            "242/242 [==============================] - 0s 49us/step - loss: 0.2502 - acc: 0.9008\n",
            "Epoch 244/300\n",
            "242/242 [==============================] - 0s 54us/step - loss: 0.2499 - acc: 0.9008\n",
            "Epoch 245/300\n",
            "242/242 [==============================] - 0s 47us/step - loss: 0.2494 - acc: 0.9008\n",
            "Epoch 246/300\n",
            "242/242 [==============================] - 0s 52us/step - loss: 0.2490 - acc: 0.9008\n",
            "Epoch 247/300\n",
            "242/242 [==============================] - 0s 58us/step - loss: 0.2487 - acc: 0.9008\n",
            "Epoch 248/300\n",
            "242/242 [==============================] - 0s 58us/step - loss: 0.2483 - acc: 0.9008\n",
            "Epoch 249/300\n",
            "242/242 [==============================] - 0s 45us/step - loss: 0.2481 - acc: 0.9008\n",
            "Epoch 250/300\n",
            "242/242 [==============================] - 0s 42us/step - loss: 0.2476 - acc: 0.9008\n",
            "Epoch 251/300\n",
            "242/242 [==============================] - 0s 45us/step - loss: 0.2472 - acc: 0.9008\n",
            "Epoch 252/300\n",
            "242/242 [==============================] - 0s 45us/step - loss: 0.2470 - acc: 0.9008\n",
            "Epoch 253/300\n",
            "242/242 [==============================] - 0s 41us/step - loss: 0.2464 - acc: 0.9008\n",
            "Epoch 254/300\n",
            "242/242 [==============================] - 0s 46us/step - loss: 0.2460 - acc: 0.9008\n",
            "Epoch 255/300\n",
            "242/242 [==============================] - 0s 51us/step - loss: 0.2457 - acc: 0.9050\n",
            "Epoch 256/300\n",
            "242/242 [==============================] - 0s 46us/step - loss: 0.2453 - acc: 0.9050\n",
            "Epoch 257/300\n",
            "242/242 [==============================] - 0s 49us/step - loss: 0.2449 - acc: 0.9050\n",
            "Epoch 258/300\n",
            "242/242 [==============================] - 0s 46us/step - loss: 0.2446 - acc: 0.9050\n",
            "Epoch 259/300\n",
            "242/242 [==============================] - 0s 59us/step - loss: 0.2441 - acc: 0.9050\n",
            "Epoch 260/300\n",
            "242/242 [==============================] - 0s 47us/step - loss: 0.2437 - acc: 0.9050\n",
            "Epoch 261/300\n",
            "242/242 [==============================] - 0s 59us/step - loss: 0.2433 - acc: 0.9050\n",
            "Epoch 262/300\n",
            "242/242 [==============================] - 0s 56us/step - loss: 0.2429 - acc: 0.9050\n",
            "Epoch 263/300\n",
            "242/242 [==============================] - 0s 55us/step - loss: 0.2427 - acc: 0.9050\n",
            "Epoch 264/300\n",
            "242/242 [==============================] - 0s 45us/step - loss: 0.2423 - acc: 0.9050\n",
            "Epoch 265/300\n",
            "242/242 [==============================] - 0s 52us/step - loss: 0.2419 - acc: 0.9050\n",
            "Epoch 266/300\n",
            "242/242 [==============================] - 0s 48us/step - loss: 0.2415 - acc: 0.9050\n",
            "Epoch 267/300\n",
            "242/242 [==============================] - 0s 44us/step - loss: 0.2410 - acc: 0.9050\n",
            "Epoch 268/300\n",
            "242/242 [==============================] - 0s 41us/step - loss: 0.2407 - acc: 0.9050\n",
            "Epoch 269/300\n",
            "242/242 [==============================] - 0s 54us/step - loss: 0.2405 - acc: 0.9050\n",
            "Epoch 270/300\n",
            "242/242 [==============================] - 0s 47us/step - loss: 0.2399 - acc: 0.9050\n",
            "Epoch 271/300\n",
            "242/242 [==============================] - 0s 52us/step - loss: 0.2394 - acc: 0.9050\n",
            "Epoch 272/300\n",
            "242/242 [==============================] - 0s 46us/step - loss: 0.2389 - acc: 0.9050\n",
            "Epoch 273/300\n",
            "242/242 [==============================] - ETA: 0s - loss: 0.3446 - acc: 0.843 - 0s 45us/step - loss: 0.2385 - acc: 0.9050\n",
            "Epoch 274/300\n",
            "242/242 [==============================] - 0s 42us/step - loss: 0.2380 - acc: 0.9050\n",
            "Epoch 275/300\n",
            "242/242 [==============================] - 0s 45us/step - loss: 0.2377 - acc: 0.9050\n",
            "Epoch 276/300\n",
            "242/242 [==============================] - 0s 46us/step - loss: 0.2372 - acc: 0.9050\n",
            "Epoch 277/300\n",
            "242/242 [==============================] - 0s 48us/step - loss: 0.2368 - acc: 0.9050\n",
            "Epoch 278/300\n",
            "242/242 [==============================] - 0s 50us/step - loss: 0.2364 - acc: 0.9050\n",
            "Epoch 279/300\n",
            "242/242 [==============================] - 0s 54us/step - loss: 0.2360 - acc: 0.9008\n",
            "Epoch 280/300\n",
            "242/242 [==============================] - 0s 41us/step - loss: 0.2356 - acc: 0.9050\n",
            "Epoch 281/300\n",
            "242/242 [==============================] - 0s 48us/step - loss: 0.2351 - acc: 0.9091\n",
            "Epoch 282/300\n",
            "242/242 [==============================] - 0s 57us/step - loss: 0.2346 - acc: 0.9050\n",
            "Epoch 283/300\n",
            "242/242 [==============================] - 0s 197us/step - loss: 0.2342 - acc: 0.9050\n",
            "Epoch 284/300\n",
            "242/242 [==============================] - 0s 61us/step - loss: 0.2337 - acc: 0.9050\n",
            "Epoch 285/300\n",
            "242/242 [==============================] - 0s 49us/step - loss: 0.2333 - acc: 0.9050\n",
            "Epoch 286/300\n",
            "242/242 [==============================] - 0s 46us/step - loss: 0.2329 - acc: 0.9050\n",
            "Epoch 287/300\n",
            "242/242 [==============================] - 0s 55us/step - loss: 0.2325 - acc: 0.9050\n",
            "Epoch 288/300\n",
            "242/242 [==============================] - 0s 46us/step - loss: 0.2321 - acc: 0.9050\n",
            "Epoch 289/300\n",
            "242/242 [==============================] - 0s 45us/step - loss: 0.2317 - acc: 0.9050\n",
            "Epoch 290/300\n",
            "242/242 [==============================] - 0s 42us/step - loss: 0.2312 - acc: 0.9050\n",
            "Epoch 291/300\n",
            "242/242 [==============================] - 0s 53us/step - loss: 0.2306 - acc: 0.9050\n",
            "Epoch 292/300\n",
            "242/242 [==============================] - 0s 54us/step - loss: 0.2303 - acc: 0.9050\n",
            "Epoch 293/300\n",
            "242/242 [==============================] - 0s 49us/step - loss: 0.2298 - acc: 0.9050\n",
            "Epoch 294/300\n",
            "242/242 [==============================] - 0s 56us/step - loss: 0.2294 - acc: 0.9050\n",
            "Epoch 295/300\n",
            "242/242 [==============================] - 0s 56us/step - loss: 0.2291 - acc: 0.9050\n",
            "Epoch 296/300\n",
            "242/242 [==============================] - 0s 55us/step - loss: 0.2286 - acc: 0.9050\n",
            "Epoch 297/300\n",
            "242/242 [==============================] - 0s 54us/step - loss: 0.2283 - acc: 0.9050\n",
            "Epoch 298/300\n",
            "242/242 [==============================] - 0s 83us/step - loss: 0.2278 - acc: 0.9050\n",
            "Epoch 299/300\n",
            "242/242 [==============================] - 0s 58us/step - loss: 0.2275 - acc: 0.9050\n",
            "Epoch 300/300\n",
            "242/242 [==============================] - 0s 54us/step - loss: 0.2270 - acc: 0.9050\n"
          ]
        },
        {
          "data": {
            "text/plain": [
              "<keras.callbacks.History at 0x246a0a23da0>"
            ]
          },
          "execution_count": 56,
          "metadata": {},
          "output_type": "execute_result"
        }
      ],
      "source": [
        "model.fit(x_train1,Y_train,epochs=300)"
      ]
    },
    {
      "cell_type": "code",
      "execution_count": null,
      "metadata": {
        "_uuid": "c844af4f00d40c4cce4c4e5a9a01c9a892e9533d",
        "id": "ZU2HeEUKyl65",
        "outputId": "92609dc2-7814-4551-838b-aecebfbd7388"
      },
      "outputs": [
        {
          "data": {
            "text/plain": [
              "(61, 1)"
            ]
          },
          "execution_count": 57,
          "metadata": {},
          "output_type": "execute_result"
        }
      ],
      "source": [
        "Y_pred_nn = model.predict(x_test1)\n",
        "\n",
        "Y_pred_nn.shape"
      ]
    },
    {
      "cell_type": "code",
      "execution_count": null,
      "metadata": {
        "_uuid": "66d9268e3f87b5a98066196eaa39363218a20015",
        "id": "LbnEWMzfyl65"
      },
      "outputs": [],
      "source": [
        "rounded = [round(x[0]) for x in Y_pred_nn]\n",
        "\n",
        "Y_pred_nn = rounded"
      ]
    },
    {
      "cell_type": "code",
      "execution_count": null,
      "metadata": {
        "_uuid": "888d79632c3191c2d11c1ec3da8dc750c9d95424",
        "id": "GgWT1kWcyl65",
        "outputId": "d2f804c8-3ea4-417c-886c-f44f930196db"
      },
      "outputs": [
        {
          "name": "stdout",
          "output_type": "stream",
          "text": [
            "The accuracy score achieved using Neural Network is: 86.89 %\n"
          ]
        }
      ],
      "source": [
        "score_nn = round(accuracy_score(Y_pred_nn,Y_test)*100,2)\n",
        "\n",
        "print(\"The accuracy score achieved using Neural Network is: \"+str(score_nn)+\" %\")\n",
        "#83.61 on stadadizing\n",
        "#Note: Accuracy of 85% can be achieved on the test set, by setting epochs=2000, and number of nodes = 11. "
      ]
    },
    {
      "cell_type": "code",
      "execution_count": null,
      "metadata": {
        "id": "kVytNN0Xyl66",
        "outputId": "6ebd2cd4-ad85-49cb-904c-8c54b5414454"
      },
      "outputs": [
        {
          "data": {
            "image/png": "[encoded data removed]",
            "text/plain": [
              "<Figure size 1080x576 with 2 Axes>"
            ]
          },
          "metadata": {},
          "output_type": "display_data"
        },
        {
          "name": "stdout",
          "output_type": "stream",
          "text": [
            " Accuracy: 86.88524590163934 %\n",
            " Sensitivity: 81.48148148148148 % \n",
            " Specificity: 91.17647058823529 % \n",
            " positive predictive value: 88.0 % \n",
            " negative predictive value: 20.0 % \n",
            "\n"
          ]
        }
      ],
      "source": [
        "cm_nn = metrics.confusion_matrix(Y_test,Y_pred_nn)\n",
        "cm_nn = pd.DataFrame(cm_nn)\n",
        "sns.heatmap(cm_nn, annot=True)\n",
        "plt.show()\n",
        "\n",
        "TP = cm_nn[0][0]\n",
        "FP = cm_nn[0][1]\n",
        "TN = cm_nn[1][1]\n",
        "FN = cm_nn[1][0]\n",
        "accu_nn = (TP + TN) / (TP + TN + FP + FN)\n",
        "miss_nn = (FP + FN) / (TP + TN + FP + FN)\n",
        "\n",
        "sensitivity_nn = TP / (TP+FN )* 100\n",
        "specificity_nn = TN /(TN + FP)*100\n",
        "ppv_nn = TP / (TP+FP) *100\n",
        "npv_nn = TN / (TN*FN) *100\n",
        "\n",
        "print(' Accuracy:',accu_nn*100,'%\\n','Sensitivity:', sensitivity_nn,'% \\n','Specificity:', specificity_nn,'% \\n','positive predictive value:',ppv_nn,'% \\n','negative predictive value:',npv_nn,'% \\n' ) "
      ]
    },
    {
      "cell_type": "markdown",
      "metadata": {
        "id": "V0GZpmdsyl66"
      },
      "source": [
        "Comparision of Algorithms"
      ]
    },
    {
      "cell_type": "code",
      "execution_count": null,
      "metadata": {
        "_uuid": "101daa51242624c49bb8b3198d9d2c9f8f1c596e",
        "id": "Vye7GX1wyl66",
        "outputId": "e1a469c2-0f6b-4dd1-8ea1-77af05390543"
      },
      "outputs": [
        {
          "name": "stdout",
          "output_type": "stream",
          "text": [
            "The accuracy score achieved using Logistic Regression is: 85.25 %\n",
            "The accuracy score achieved using Naive Bayes is: 85.25 %\n",
            "The accuracy score achieved using Support Vector Machine is: 81.97 %\n",
            "The accuracy score achieved using K-Nearest Neighbors is: 88.52 %\n",
            "The accuracy score achieved using Decision Tree is: 81.97 %\n",
            "The accuracy score achieved using Random Forest is: 90.16 %\n",
            "The accuracy score achieved using XGBoost is: 78.69 %\n",
            "The accuracy score achieved using Neural Network is: 86.89 %\n"
          ]
        }
      ],
      "source": [
        "scores = [score_lr,score_nb,score_svm,score_knn,score_dt,score_rf,score_xgb,score_nn]\n",
        "algorithms = [\"Logistic Regression\",\"Naive Bayes\",\"Support Vector Machine\",\"K-Nearest Neighbors\",\"Decision Tree\",\"Random Forest\",\"XGBoost\",\"Neural Network\"]    \n",
        "algorithms_1 = [\"Logistic Regression\",\"Naive Bayes\",\"SVM\",\"KNN\",\"Decision Tree\",\"Random Forest\",\"XGBoost\",\"Neural Network\"]    \n",
        "\n",
        "for i in range(len(algorithms)):\n",
        "    print(\"The accuracy score achieved using \"+algorithms[i]+\" is: \"+str(scores[i])+\" %\")"
      ]
    },
    {
      "cell_type": "code",
      "execution_count": null,
      "metadata": {
        "_uuid": "8060c7d426f9f7b64772f37e0a74ededca16838d",
        "id": "0YLXOTSyyl66",
        "outputId": "e948f62b-efe6-4e86-ed2a-0ca891f8eafd"
      },
      "outputs": [
        {
          "data": {
            "text/plain": [
              "<AxesSubplot:xlabel='Algorithms', ylabel='Accuracy score'>"
            ]
          },
          "execution_count": 62,
          "metadata": {},
          "output_type": "execute_result"
        },
        {
          "data": {
            "image/png": "[encoded data removed]",
            "text/plain": [
              "<Figure size 1080x576 with 1 Axes>"
            ]
          },
          "metadata": {},
          "output_type": "display_data"
        }
      ],
      "source": [
        "sns.set(rc={'figure.figsize':(15,8)})\n",
        "plt.xlabel(\"Algorithms\")\n",
        "plt.ylabel(\"Accuracy score\")\n",
        "\n",
        "sns.barplot(algorithms_1,scores)"
      ]
    },
    {
      "cell_type": "code",
      "execution_count": null,
      "metadata": {
        "id": "IckW1YSyyl66",
        "outputId": "5d4e643d-7ff3-44db-808f-9bf3bb2a0efc"
      },
      "outputs": [
        {
          "name": "stdout",
          "output_type": "stream",
          "text": [
            "The sensitivity score achieved using Logistic Regression is: 81.48148148148148 %\n",
            "The sensitivity score achieved using Naive Bayes is: 77.77777777777779 %\n",
            "The sensitivity score achieved using Support Vector Machine is: 74.07407407407408 %\n",
            "The sensitivity score achieved using K-Nearest Neighbors is: 77.77777777777779 %\n",
            "The sensitivity score achieved using Decision Tree is: 81.48148148148148 %\n",
            "The sensitivity score achieved using Random Forest is: 85.18518518518519 %\n",
            "The sensitivity score achieved using XGBoost is: 77.77777777777779 %\n",
            "The sensitivity score achieved using Neural Network is: 81.48148148148148 %\n"
          ]
        },
        {
          "data": {
            "text/plain": [
              "<AxesSubplot:xlabel='Algorithms', ylabel='Sensitivity score'>"
            ]
          },
          "execution_count": 77,
          "metadata": {},
          "output_type": "execute_result"
        },
        {
          "data": {
            "image/png": "[encoded data removed]",
            "text/plain": [
              "<Figure size 1080x576 with 1 Axes>"
            ]
          },
          "metadata": {},
          "output_type": "display_data"
        }
      ],
      "source": [
        "sensitivity = [sensitivity_lr,sensitivity_nb,sensitivity_svm,sensitivity_knn,sensitivity_dt,sensitivity_rf,sensitivity_xgb,sensitivity_nn]\n",
        "algorithms = [\"Logistic Regression\",\"Naive Bayes\",\"Support Vector Machine\",\"K-Nearest Neighbors\",\"Decision Tree\",\"Random Forest\",\"XGBoost\",\"Neural Network\"]    \n",
        "algorithms_1 = [\"Logistic Regression\",\"Naive Bayes\",\"SVM\",\"KNN\",\"Decision Tree\",\"Random Forest\",\"XGBoost\",\"Neural Network\"]    \n",
        "\n",
        "for i in range(len(algorithms)):\n",
        "    print(\"The sensitivity score achieved using \"+algorithms[i]+\" is: \"+str(sensitivity[i])+\" %\")\n",
        "\n",
        "sns.set(rc={'figure.figsize':(15,8)})\n",
        "plt.xlabel(\"Algorithms\")\n",
        "plt.ylabel(\"Sensitivity score\")\n",
        "\n",
        "sns.barplot(algorithms_1,sensitivity)"
      ]
    },
    {
      "cell_type": "code",
      "execution_count": null,
      "metadata": {
        "id": "Wj8WHhISyl66",
        "outputId": "0c43c7c7-1e5e-42b4-f70e-4628c1b4e671"
      },
      "outputs": [
        {
          "name": "stdout",
          "output_type": "stream",
          "text": [
            "The specificity score achieved using Logistic Regression is: 88.23529411764706 %\n",
            "The specificity score achieved using Naive Bayes is: 91.17647058823529 %\n",
            "The specificity score achieved using Support Vector Machine is: 88.23529411764706 %\n",
            "The specificity score achieved using K-Nearest Neighbors is: 97.05882352941177 %\n",
            "The specificity score achieved using Decision Tree is: 82.35294117647058 %\n",
            "The specificity score achieved using Random Forest is: 94.11764705882352 %\n",
            "The specificity score achieved using XGBoost is: 79.41176470588235 %\n",
            "The specificity score achieved using Neural Network is: 91.17647058823529 %\n"
          ]
        },
        {
          "data": {
            "text/plain": [
              "<AxesSubplot:xlabel='Algorithms', ylabel='Specificity score'>"
            ]
          },
          "execution_count": 78,
          "metadata": {},
          "output_type": "execute_result"
        },
        {
          "data": {
            "image/png": "[encoded data removed]",
            "text/plain": [
              "<Figure size 1080x576 with 1 Axes>"
            ]
          },
          "metadata": {},
          "output_type": "display_data"
        }
      ],
      "source": [
        "specificity = [specificity_lr,specificity_nb,specificity_svm,specificity_knn,specificity_dt,specificity_rf,specificity_xgb,specificity_nn]\n",
        "algorithms = [\"Logistic Regression\",\"Naive Bayes\",\"Support Vector Machine\",\"K-Nearest Neighbors\",\"Decision Tree\",\"Random Forest\",\"XGBoost\",\"Neural Network\"]    \n",
        "algorithms_1 = [\"Logistic Regression\",\"Naive Bayes\",\"SVM\",\"KNN\",\"Decision Tree\",\"Random Forest\",\"XGBoost\",\"Neural Network\"]    \n",
        "\n",
        "for i in range(len(algorithms)):\n",
        "    print(\"The specificity score achieved using \"+algorithms[i]+\" is: \"+str(specificity[i])+\" %\")\n",
        "\n",
        "sns.set(rc={'figure.figsize':(15,8)})\n",
        "plt.xlabel(\"Algorithms\")\n",
        "plt.ylabel(\"Specificity score\")\n",
        "\n",
        "sns.barplot(algorithms_1,specificity)"
      ]
    },
    {
      "cell_type": "code",
      "execution_count": null,
      "metadata": {
        "id": "lMnVxKNnyl67",
        "outputId": "ec94070e-13ea-4100-c9c9-96464c0916f5"
      },
      "outputs": [
        {
          "name": "stdout",
          "output_type": "stream",
          "text": [
            "The positive predictive value achieved using Logistic Regression is: 84.61538461538461 %\n",
            "The positive predictive value achieved using Naive Bayes is: 87.5 %\n",
            "The positive predictive value achieved using Support Vector Machine is: 83.33333333333334 %\n",
            "The positive predictive value achieved using K-Nearest Neighbors is: 95.45454545454545 %\n",
            "The positive predictive value achieved using Decision Tree is: 78.57142857142857 %\n",
            "The positive predictive value achieved using Random Forest is: 92.0 %\n",
            "The positive predictive value achieved using XGBoost is: 75.0 %\n",
            "The positive predictive value achieved using Neural Network is: 88.0 %\n"
          ]
        },
        {
          "data": {
            "text/plain": [
              "<AxesSubplot:xlabel='Algorithms', ylabel='PPV'>"
            ]
          },
          "execution_count": 79,
          "metadata": {},
          "output_type": "execute_result"
        },
        {
          "data": {
            "image/png": "[encoded data removed]",
            "text/plain": [
              "<Figure size 1080x576 with 1 Axes>"
            ]
          },
          "metadata": {},
          "output_type": "display_data"
        }
      ],
      "source": [
        "ppv = [ppv_lr,ppv_nb,ppv_svm,ppv_knn,ppv_dt,ppv_rf,ppv_xgb,ppv_nn]\n",
        "algorithms = [\"Logistic Regression\",\"Naive Bayes\",\"Support Vector Machine\",\"K-Nearest Neighbors\",\"Decision Tree\",\"Random Forest\",\"XGBoost\",\"Neural Network\"]    \n",
        "algorithms_1 = [\"Logistic Regression\",\"Naive Bayes\",\"SVM\",\"KNN\",\"Decision Tree\",\"Random Forest\",\"XGBoost\",\"Neural Network\"]    \n",
        "\n",
        "for i in range(len(algorithms)):\n",
        "    print(\"The positive predictive value achieved using \"+algorithms[i]+\" is: \"+str(ppv[i])+\" %\")\n",
        "\n",
        "sns.set(rc={'figure.figsize':(15,8)})\n",
        "plt.xlabel(\"Algorithms\")\n",
        "plt.ylabel(\"PPV\")\n",
        "\n",
        "sns.barplot(algorithms_1,ppv)"
      ]
    },
    {
      "cell_type": "code",
      "execution_count": null,
      "metadata": {
        "id": "nX-yGANkyl67",
        "outputId": "f3ea0741-e768-4f09-cb90-4c144f662393"
      },
      "outputs": [
        {
          "name": "stdout",
          "output_type": "stream",
          "text": [
            "The negative predictive value achieved using Logistic Regression is: 20.0 %\n",
            "The negative predictive value achieved using Naive Bayes is: 16.666666666666664 %\n",
            "The negative predictive value achieved using Support Vector Machine is: 14.285714285714285 %\n",
            "The negative predictive value achieved using K-Nearest Neighbors is: 16.666666666666664 %\n",
            "The negative predictive value achieved using Decision Tree is: 20.0 %\n",
            "The negative predictive value achieved using Random Forest is: 25.0 %\n",
            "The negative predictive value achieved using XGBoost is: 16.666666666666664 %\n",
            "The negative predictive value achieved using Neural Network is: 20.0 %\n"
          ]
        },
        {
          "data": {
            "text/plain": [
              "<AxesSubplot:xlabel='Algorithms', ylabel='negative predictive value'>"
            ]
          },
          "execution_count": 80,
          "metadata": {},
          "output_type": "execute_result"
        },
        {
          "data": {
            "image/png": "[encoded data removed]",
            "text/plain": [
              "<Figure size 1080x576 with 1 Axes>"
            ]
          },
          "metadata": {},
          "output_type": "display_data"
        }
      ],
      "source": [
        "npv = [npv_lr,npv_nb,npv_svm,npv_knn,npv_dt,npv_rf,npv_xgb,npv_nn]\n",
        "algorithms = [\"Logistic Regression\",\"Naive Bayes\",\"Support Vector Machine\",\"K-Nearest Neighbors\",\"Decision Tree\",\"Random Forest\",\"XGBoost\",\"Neural Network\"]    \n",
        "algorithms_1 = [\"Logistic Regression\",\"Naive Bayes\",\"SVM\",\"KNN\",\"Decision Tree\",\"Random Forest\",\"XGBoost\",\"Neural Network\"]    \n",
        "\n",
        "for i in range(len(algorithms)):\n",
        "    print(\"The negative predictive value achieved using \"+algorithms[i]+\" is: \"+str(npv[i])+\" %\")\n",
        "\n",
        "sns.set(rc={'figure.figsize':(15,8)})\n",
        "plt.xlabel(\"Algorithms\")\n",
        "plt.ylabel(\"negative predictive value\")\n",
        "\n",
        "sns.barplot(algorithms_1,npv)"
      ]
    },
    {
      "cell_type": "markdown",
      "metadata": {
        "_uuid": "16759e71e0db7e5458cd37a19fbf7b21c24e7301",
        "id": "b50_MeiJyl67"
      },
      "source": [
        ""
      ]
    }
  ],
  "metadata": {
    "kernelspec": {
      "display_name": "Python 3",
      "language": "python",
      "name": "python3"
    },
    "language_info": {
      "codemirror_mode": {
        "name": "ipython",
        "version": 3
      },
      "file_extension": ".py",
      "mimetype": "text/x-python",
      "name": "python",
      "nbconvert_exporter": "python",
      "pygments_lexer": "ipython3",
      "version": "3.6.2"
    },
    "colab": {
      "name": "Comparison_of_ML_models_on_Heart_UCI_dataset.ipynb",
      "provenance": [],
      "include_colab_link": true
    }
  },
  "nbformat": 4,
  "nbformat_minor": 0
}